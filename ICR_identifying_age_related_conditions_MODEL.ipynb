{
 "cells": [
  {
   "cell_type": "code",
   "execution_count": 640,
   "metadata": {},
   "outputs": [],
   "source": [
    "import pandas as pd \n",
    "from sklearn.model_selection import GroupKFold\n",
    "from lightgbm import LGBMClassifier\n",
    "import numpy as np\n",
    "import seaborn as sns\n",
    "pd.set_option('display.max_columns', 200)"
   ]
  },
  {
   "cell_type": "code",
   "execution_count": 777,
   "metadata": {},
   "outputs": [],
   "source": [
    "path = '/Users/macintosh/Desktop/data_completitions/Kaggle/2023/icr-identify-age-related-conditions'\n",
    "df_greeks = pd.read_csv(path+'/greeks.csv')\n",
    "df_sample_sub = pd.read_csv(path+'/sample_submission.csv')\n",
    "df_test = pd.read_csv(path+'/test.csv')\n",
    "df_train = pd.read_csv(path+'/train.csv')"
   ]
  },
  {
   "cell_type": "code",
   "execution_count": 778,
   "metadata": {},
   "outputs": [],
   "source": [
    "df_greeks.columns = df_greeks.columns.str.lower().str.replace(' ', '')\n",
    "df_sample_sub.columns = df_sample_sub.columns.str.lower().str.replace(' ', '')\n",
    "df_test.columns = df_test.columns.str.lower().str.replace(' ', '')\n",
    "df_train.columns = df_train.columns.str.lower().str.replace(' ', '')"
   ]
  },
  {
   "cell_type": "code",
   "execution_count": 779,
   "metadata": {},
   "outputs": [],
   "source": [
    "merge_df = df_train.merge(df_greeks, how='left', left_on='id', right_on='id')"
   ]
  },
  {
   "cell_type": "code",
   "execution_count": 780,
   "metadata": {},
   "outputs": [],
   "source": [
    "# New features\n",
    "# Alpha\n",
    "feature_alpha_df = pd.get_dummies(merge_df['alpha'])\n",
    "feature_alpha_df.columns = 'alpha_'+(feature_alpha_df.columns).str.lower()\n",
    "# Gamma E, H, A, B flag\n",
    "feature_gamma_df = pd.get_dummies(merge_df['gamma'])\n",
    "SELECTED_GAMMA = ['A', 'B', 'E', 'H']\n",
    "feature_gamma_df = feature_gamma_df.loc[:,SELECTED_GAMMA]\n",
    "feature_gamma_df.columns = 'gamma_'+(feature_gamma_df.columns).str.lower() \n",
    "# Unknown year\n",
    "merge_df['is_unknown'] = merge_df.epsilon.apply(lambda x: True if x == 'Unknown' else False)\n",
    "\n",
    "# Concat features\n",
    "merge_df = pd.concat([merge_df, feature_alpha_df, feature_gamma_df], axis=1)"
   ]
  },
  {
   "cell_type": "code",
   "execution_count": 781,
   "metadata": {},
   "outputs": [],
   "source": [
    "model = {}"
   ]
  },
  {
   "cell_type": "code",
   "execution_count": 782,
   "metadata": {},
   "outputs": [],
   "source": [
    "exclude_cols = ['id','ej', 'alpha', 'beta', 'gamma', 'delta', 'epsilon', 'class'\n",
    "                , 'alpha_a', 'alpha_b', 'alpha_d','alpha_g', 'gamma_a', 'gamma_b', 'gamma_e', 'gamma_h', 'is_unknown']\n",
    "PRE_FEATURES = [c for c in merge_df.columns if c not in exclude_cols]"
   ]
  },
  {
   "cell_type": "code",
   "execution_count": 783,
   "metadata": {},
   "outputs": [],
   "source": [
    "ALL_IDS = merge_df.id.unique()\n",
    "oof_alpha_a = pd.DataFrame(data=np.zeros((len(ALL_IDS), 2)), index=ALL_IDS, columns=['class_0', 'class_1'])\n",
    "oof_gamma_a = pd.DataFrame(data=np.zeros((len(ALL_IDS), 2)), index=ALL_IDS, columns=['class_0', 'class_1'])\n",
    "oof_gamma_b = pd.DataFrame(data=np.zeros((len(ALL_IDS), 2)), index=ALL_IDS, columns=['class_0', 'class_1'])\n",
    "oof_gamma_e = pd.DataFrame(data=np.zeros((len(ALL_IDS), 2)), index=ALL_IDS, columns=['class_0', 'class_1'])\n",
    "oof_gamma_h = pd.DataFrame(data=np.zeros((len(ALL_IDS), 2)), index=ALL_IDS, columns=['class_0', 'class_1'])"
   ]
  },
  {
   "cell_type": "code",
   "execution_count": 784,
   "metadata": {},
   "outputs": [],
   "source": [
    "def predict_feature(model_dict, model_name, data, output_data, features):\n",
    "    # Train with GroupKFold\n",
    "    gkf = GroupKFold(n_splits=5)\n",
    "    for i, (train_idx, test_idx) in enumerate(gkf.split(X=data, groups=data.index)):\n",
    "        print('-'*25)\n",
    "        print('--- Fold', i+1)\n",
    "        print('-'*25)\n",
    "        lgb_params={\n",
    "            'objective': 'binary',\n",
    "            'metric': 'auc',\n",
    "            'learning': 0.002,\n",
    "            'max_depth': 6,\n",
    "            'num_iterations':1000\n",
    "        }\n",
    "        # Train Data\n",
    "        train_x = data.iloc[train_idx]\n",
    "        train_y = data.loc[train_idx]\n",
    "\n",
    "        # Valid Data\n",
    "        valid_x = data.iloc[test_idx]\n",
    "        valid_ids = valid_x.id.values\n",
    "\n",
    "        # Train Model\n",
    "        clf = LGBMClassifier(**lgb_params)\n",
    "        clf.fit(train_x[features], train_y[f'{model_name}'])\n",
    "\n",
    "        # # Save Model\n",
    "        model_dict[f'{model_name}'] = clf\n",
    "        output_data.loc[valid_ids] = clf.predict_proba(valid_x[features])\n",
    "    return output_data\n",
    "    "
   ]
  },
  {
   "cell_type": "code",
   "execution_count": 785,
   "metadata": {},
   "outputs": [
    {
     "name": "stdout",
     "output_type": "stream",
     "text": [
      "-------------------------\n",
      "--- Fold 1\n",
      "-------------------------\n",
      "[LightGBM] [Warning] Unknown parameter: learning\n"
     ]
    },
    {
     "name": "stderr",
     "output_type": "stream",
     "text": [
      "/usr/local/lib/python3.9/site-packages/lightgbm/engine.py:177: UserWarning: Found `num_iterations` in params. Will use it instead of argument\n",
      "  _log_warning(f\"Found `{alias}` in params. Will use it instead of argument\")\n"
     ]
    },
    {
     "name": "stdout",
     "output_type": "stream",
     "text": [
      "-------------------------\n",
      "--- Fold 2\n",
      "-------------------------\n",
      "[LightGBM] [Warning] Unknown parameter: learning\n"
     ]
    },
    {
     "name": "stderr",
     "output_type": "stream",
     "text": [
      "/usr/local/lib/python3.9/site-packages/lightgbm/engine.py:177: UserWarning: Found `num_iterations` in params. Will use it instead of argument\n",
      "  _log_warning(f\"Found `{alias}` in params. Will use it instead of argument\")\n"
     ]
    },
    {
     "name": "stdout",
     "output_type": "stream",
     "text": [
      "-------------------------\n",
      "--- Fold 3\n",
      "-------------------------\n",
      "[LightGBM] [Warning] Unknown parameter: learning\n"
     ]
    },
    {
     "name": "stderr",
     "output_type": "stream",
     "text": [
      "/usr/local/lib/python3.9/site-packages/lightgbm/engine.py:177: UserWarning: Found `num_iterations` in params. Will use it instead of argument\n",
      "  _log_warning(f\"Found `{alias}` in params. Will use it instead of argument\")\n"
     ]
    },
    {
     "name": "stdout",
     "output_type": "stream",
     "text": [
      "-------------------------\n",
      "--- Fold 4\n",
      "-------------------------\n",
      "[LightGBM] [Warning] Unknown parameter: learning\n"
     ]
    },
    {
     "name": "stderr",
     "output_type": "stream",
     "text": [
      "/usr/local/lib/python3.9/site-packages/lightgbm/engine.py:177: UserWarning: Found `num_iterations` in params. Will use it instead of argument\n",
      "  _log_warning(f\"Found `{alias}` in params. Will use it instead of argument\")\n"
     ]
    },
    {
     "name": "stdout",
     "output_type": "stream",
     "text": [
      "-------------------------\n",
      "--- Fold 5\n",
      "-------------------------\n",
      "[LightGBM] [Warning] Unknown parameter: learning\n"
     ]
    },
    {
     "name": "stderr",
     "output_type": "stream",
     "text": [
      "/usr/local/lib/python3.9/site-packages/lightgbm/engine.py:177: UserWarning: Found `num_iterations` in params. Will use it instead of argument\n",
      "  _log_warning(f\"Found `{alias}` in params. Will use it instead of argument\")\n"
     ]
    },
    {
     "name": "stdout",
     "output_type": "stream",
     "text": [
      "-------------------------\n",
      "--- Fold 1\n",
      "-------------------------\n",
      "[LightGBM] [Warning] Unknown parameter: learning\n",
      "-------------------------\n",
      "--- Fold 2\n",
      "-------------------------\n",
      "[LightGBM] [Warning] Unknown parameter: learning\n"
     ]
    },
    {
     "name": "stderr",
     "output_type": "stream",
     "text": [
      "/usr/local/lib/python3.9/site-packages/lightgbm/engine.py:177: UserWarning: Found `num_iterations` in params. Will use it instead of argument\n",
      "  _log_warning(f\"Found `{alias}` in params. Will use it instead of argument\")\n",
      "/usr/local/lib/python3.9/site-packages/lightgbm/engine.py:177: UserWarning: Found `num_iterations` in params. Will use it instead of argument\n",
      "  _log_warning(f\"Found `{alias}` in params. Will use it instead of argument\")\n"
     ]
    },
    {
     "name": "stdout",
     "output_type": "stream",
     "text": [
      "-------------------------\n",
      "--- Fold 3\n",
      "-------------------------\n",
      "[LightGBM] [Warning] Unknown parameter: learning\n",
      "-------------------------\n",
      "--- Fold 4\n",
      "-------------------------\n",
      "[LightGBM] [Warning] Unknown parameter: learning\n"
     ]
    },
    {
     "name": "stderr",
     "output_type": "stream",
     "text": [
      "/usr/local/lib/python3.9/site-packages/lightgbm/engine.py:177: UserWarning: Found `num_iterations` in params. Will use it instead of argument\n",
      "  _log_warning(f\"Found `{alias}` in params. Will use it instead of argument\")\n",
      "/usr/local/lib/python3.9/site-packages/lightgbm/engine.py:177: UserWarning: Found `num_iterations` in params. Will use it instead of argument\n",
      "  _log_warning(f\"Found `{alias}` in params. Will use it instead of argument\")\n"
     ]
    },
    {
     "name": "stdout",
     "output_type": "stream",
     "text": [
      "-------------------------\n",
      "--- Fold 5\n",
      "-------------------------\n",
      "[LightGBM] [Warning] Unknown parameter: learning\n",
      "-------------------------\n",
      "--- Fold 1\n",
      "-------------------------\n",
      "[LightGBM] [Warning] Unknown parameter: learning\n"
     ]
    },
    {
     "name": "stderr",
     "output_type": "stream",
     "text": [
      "/usr/local/lib/python3.9/site-packages/lightgbm/engine.py:177: UserWarning: Found `num_iterations` in params. Will use it instead of argument\n",
      "  _log_warning(f\"Found `{alias}` in params. Will use it instead of argument\")\n",
      "/usr/local/lib/python3.9/site-packages/lightgbm/engine.py:177: UserWarning: Found `num_iterations` in params. Will use it instead of argument\n",
      "  _log_warning(f\"Found `{alias}` in params. Will use it instead of argument\")\n"
     ]
    },
    {
     "name": "stdout",
     "output_type": "stream",
     "text": [
      "-------------------------\n",
      "--- Fold 2\n",
      "-------------------------\n",
      "[LightGBM] [Warning] Unknown parameter: learning\n",
      "-------------------------\n",
      "--- Fold 3\n",
      "-------------------------\n",
      "[LightGBM] [Warning] Unknown parameter: learning\n"
     ]
    },
    {
     "name": "stderr",
     "output_type": "stream",
     "text": [
      "/usr/local/lib/python3.9/site-packages/lightgbm/engine.py:177: UserWarning: Found `num_iterations` in params. Will use it instead of argument\n",
      "  _log_warning(f\"Found `{alias}` in params. Will use it instead of argument\")\n",
      "/usr/local/lib/python3.9/site-packages/lightgbm/engine.py:177: UserWarning: Found `num_iterations` in params. Will use it instead of argument\n",
      "  _log_warning(f\"Found `{alias}` in params. Will use it instead of argument\")\n"
     ]
    },
    {
     "name": "stdout",
     "output_type": "stream",
     "text": [
      "-------------------------\n",
      "--- Fold 4\n",
      "-------------------------\n",
      "[LightGBM] [Warning] Unknown parameter: learning\n"
     ]
    },
    {
     "name": "stderr",
     "output_type": "stream",
     "text": [
      "/usr/local/lib/python3.9/site-packages/lightgbm/engine.py:177: UserWarning: Found `num_iterations` in params. Will use it instead of argument\n",
      "  _log_warning(f\"Found `{alias}` in params. Will use it instead of argument\")\n"
     ]
    },
    {
     "name": "stdout",
     "output_type": "stream",
     "text": [
      "-------------------------\n",
      "--- Fold 5\n",
      "-------------------------\n",
      "[LightGBM] [Warning] Unknown parameter: learning\n"
     ]
    },
    {
     "name": "stderr",
     "output_type": "stream",
     "text": [
      "/usr/local/lib/python3.9/site-packages/lightgbm/engine.py:177: UserWarning: Found `num_iterations` in params. Will use it instead of argument\n",
      "  _log_warning(f\"Found `{alias}` in params. Will use it instead of argument\")\n",
      "/usr/local/lib/python3.9/site-packages/lightgbm/engine.py:177: UserWarning: Found `num_iterations` in params. Will use it instead of argument\n",
      "  _log_warning(f\"Found `{alias}` in params. Will use it instead of argument\")\n"
     ]
    },
    {
     "name": "stdout",
     "output_type": "stream",
     "text": [
      "-------------------------\n",
      "--- Fold 1\n",
      "-------------------------\n",
      "[LightGBM] [Warning] Unknown parameter: learning\n",
      "-------------------------\n",
      "--- Fold 2\n",
      "-------------------------\n",
      "[LightGBM] [Warning] Unknown parameter: learning\n"
     ]
    },
    {
     "name": "stderr",
     "output_type": "stream",
     "text": [
      "/usr/local/lib/python3.9/site-packages/lightgbm/engine.py:177: UserWarning: Found `num_iterations` in params. Will use it instead of argument\n",
      "  _log_warning(f\"Found `{alias}` in params. Will use it instead of argument\")\n",
      "/usr/local/lib/python3.9/site-packages/lightgbm/engine.py:177: UserWarning: Found `num_iterations` in params. Will use it instead of argument\n",
      "  _log_warning(f\"Found `{alias}` in params. Will use it instead of argument\")\n"
     ]
    },
    {
     "name": "stdout",
     "output_type": "stream",
     "text": [
      "-------------------------\n",
      "--- Fold 3\n",
      "-------------------------\n",
      "[LightGBM] [Warning] Unknown parameter: learning\n",
      "-------------------------\n",
      "--- Fold 4\n",
      "-------------------------\n",
      "[LightGBM] [Warning] Unknown parameter: learning\n"
     ]
    },
    {
     "name": "stderr",
     "output_type": "stream",
     "text": [
      "/usr/local/lib/python3.9/site-packages/lightgbm/engine.py:177: UserWarning: Found `num_iterations` in params. Will use it instead of argument\n",
      "  _log_warning(f\"Found `{alias}` in params. Will use it instead of argument\")\n",
      "/usr/local/lib/python3.9/site-packages/lightgbm/engine.py:177: UserWarning: Found `num_iterations` in params. Will use it instead of argument\n",
      "  _log_warning(f\"Found `{alias}` in params. Will use it instead of argument\")\n"
     ]
    },
    {
     "name": "stdout",
     "output_type": "stream",
     "text": [
      "-------------------------\n",
      "--- Fold 5\n",
      "-------------------------\n",
      "[LightGBM] [Warning] Unknown parameter: learning\n",
      "-------------------------\n",
      "--- Fold 1\n",
      "-------------------------\n",
      "[LightGBM] [Warning] Unknown parameter: learning\n"
     ]
    },
    {
     "name": "stderr",
     "output_type": "stream",
     "text": [
      "/usr/local/lib/python3.9/site-packages/lightgbm/engine.py:177: UserWarning: Found `num_iterations` in params. Will use it instead of argument\n",
      "  _log_warning(f\"Found `{alias}` in params. Will use it instead of argument\")\n"
     ]
    },
    {
     "name": "stdout",
     "output_type": "stream",
     "text": [
      "-------------------------\n",
      "--- Fold 2\n",
      "-------------------------\n",
      "[LightGBM] [Warning] Unknown parameter: learning\n",
      "-------------------------\n",
      "--- Fold 3\n",
      "-------------------------\n"
     ]
    },
    {
     "name": "stderr",
     "output_type": "stream",
     "text": [
      "/usr/local/lib/python3.9/site-packages/lightgbm/engine.py:177: UserWarning: Found `num_iterations` in params. Will use it instead of argument\n",
      "  _log_warning(f\"Found `{alias}` in params. Will use it instead of argument\")\n",
      "/usr/local/lib/python3.9/site-packages/lightgbm/engine.py:177: UserWarning: Found `num_iterations` in params. Will use it instead of argument\n",
      "  _log_warning(f\"Found `{alias}` in params. Will use it instead of argument\")\n"
     ]
    },
    {
     "name": "stdout",
     "output_type": "stream",
     "text": [
      "[LightGBM] [Warning] Unknown parameter: learning\n",
      "-------------------------\n",
      "--- Fold 4\n",
      "-------------------------\n"
     ]
    },
    {
     "name": "stderr",
     "output_type": "stream",
     "text": [
      "/usr/local/lib/python3.9/site-packages/lightgbm/engine.py:177: UserWarning: Found `num_iterations` in params. Will use it instead of argument\n",
      "  _log_warning(f\"Found `{alias}` in params. Will use it instead of argument\")\n",
      "/usr/local/lib/python3.9/site-packages/lightgbm/engine.py:177: UserWarning: Found `num_iterations` in params. Will use it instead of argument\n",
      "  _log_warning(f\"Found `{alias}` in params. Will use it instead of argument\")\n"
     ]
    },
    {
     "name": "stdout",
     "output_type": "stream",
     "text": [
      "[LightGBM] [Warning] Unknown parameter: learning\n",
      "-------------------------\n",
      "--- Fold 5\n",
      "-------------------------\n",
      "[LightGBM] [Warning] Unknown parameter: learning\n"
     ]
    }
   ],
   "source": [
    "# Predict features\n",
    "oof_alpha_a = predict_feature(model, 'alpha_a', merge_df, oof_alpha_a, PRE_FEATURES)\n",
    "oof_gamma_a = predict_feature(model, 'gamma_a', merge_df, oof_gamma_a, PRE_FEATURES)\n",
    "oof_gamma_b = predict_feature(model, 'gamma_b', merge_df, oof_gamma_b, PRE_FEATURES)\n",
    "oof_gamma_e = predict_feature(model, 'gamma_e', merge_df, oof_gamma_e, PRE_FEATURES)\n",
    "oof_gamma_h = predict_feature(model, 'gamma_h', merge_df, oof_gamma_h, PRE_FEATURES)"
   ]
  },
  {
   "cell_type": "code",
   "execution_count": 786,
   "metadata": {},
   "outputs": [
    {
     "data": {
      "text/plain": [
       "{'alpha_a': LGBMClassifier(learning=0.002, max_depth=6, metric='auc', num_iterations=1000,\n",
       "                objective='binary'),\n",
       " 'gamma_a': LGBMClassifier(learning=0.002, max_depth=6, metric='auc', num_iterations=1000,\n",
       "                objective='binary'),\n",
       " 'gamma_b': LGBMClassifier(learning=0.002, max_depth=6, metric='auc', num_iterations=1000,\n",
       "                objective='binary'),\n",
       " 'gamma_e': LGBMClassifier(learning=0.002, max_depth=6, metric='auc', num_iterations=1000,\n",
       "                objective='binary'),\n",
       " 'gamma_h': LGBMClassifier(learning=0.002, max_depth=6, metric='auc', num_iterations=1000,\n",
       "                objective='binary')}"
      ]
     },
     "execution_count": 786,
     "metadata": {},
     "output_type": "execute_result"
    }
   ],
   "source": [
    "model"
   ]
  },
  {
   "cell_type": "code",
   "execution_count": 787,
   "metadata": {},
   "outputs": [],
   "source": [
    "# Actual label\n",
    "actual_alpha_a = oof_alpha_a.copy()\n",
    "actual_alpha_a['alpha_a'] = merge_df.alpha_a.values\n",
    "actual_gamma_a = oof_gamma_a.copy()\n",
    "actual_gamma_a['gamma_a'] = merge_df.gamma_a.values\n",
    "actual_gamma_b = oof_gamma_b.copy()\n",
    "actual_gamma_b['gamma_b'] = merge_df.gamma_b.values\n",
    "actual_gamma_e = oof_gamma_e.copy()\n",
    "actual_gamma_e['gamma_e'] = merge_df.gamma_e.values\n",
    "actual_gamma_h = oof_gamma_h.copy()\n",
    "actual_gamma_h['gamma_h'] = merge_df.gamma_h.values"
   ]
  },
  {
   "cell_type": "code",
   "execution_count": 788,
   "metadata": {},
   "outputs": [],
   "source": [
    "from sklearn.metrics import f1_score\n",
    "def threshold_selected(output_data, actual):\n",
    "    scores = []; thresholds = []\n",
    "    best_score = 0; best_threshold = 0\n",
    "\n",
    "    for threshold in np.arange(0.2, 0.81, 0.01):\n",
    "        print(f'{threshold:.02f}, ', end='')\n",
    "        preds = (output_data.values.reshape((-1))>threshold).astype('int') \n",
    "        m = f1_score(actual.values.reshape((-1)).astype('int'), preds, average='macro') \n",
    "        scores.append(m) \n",
    "        thresholds.append(threshold)\n",
    "        if m>best_score:\n",
    "            best_score = m \n",
    "            best_threshold = threshold\n",
    "    return best_threshold"
   ]
  },
  {
   "cell_type": "code",
   "execution_count": 789,
   "metadata": {},
   "outputs": [
    {
     "name": "stdout",
     "output_type": "stream",
     "text": [
      "0.20, 0.21, 0.22, 0.23, 0.24, 0.25, 0.26, 0.27, 0.28, 0.29, 0.30, 0.31, 0.32, 0.33, 0.34, 0.35, 0.36, 0.37, 0.38, 0.39, 0.40, 0.41, 0.42, 0.43, 0.44, 0.45, 0.46, 0.47, 0.48, 0.49, 0.50, 0.51, 0.52, 0.53, 0.54, 0.55, 0.56, 0.57, 0.58, 0.59, 0.60, 0.61, 0.62, 0.63, 0.64, 0.65, 0.66, 0.67, 0.68, 0.69, 0.70, 0.71, 0.72, 0.73, 0.74, 0.75, 0.76, 0.77, 0.78, 0.79, 0.80, 0.81, 0.20, 0.21, 0.22, 0.23, 0.24, 0.25, 0.26, 0.27, 0.28, 0.29, 0.30, 0.31, 0.32, 0.33, 0.34, 0.35, 0.36, 0.37, 0.38, 0.39, 0.40, 0.41, 0.42, 0.43, 0.44, 0.45, 0.46, 0.47, 0.48, 0.49, 0.50, 0.51, 0.52, 0.53, 0.54, 0.55, 0.56, 0.57, 0.58, 0.59, 0.60, 0.61, 0.62, 0.63, 0.64, 0.65, 0.66, 0.67, 0.68, 0.69, 0.70, 0.71, 0.72, 0.73, 0.74, 0.75, 0.76, 0.77, 0.78, 0.79, 0.80, 0.81, 0.20, 0.21, 0.22, 0.23, 0.24, 0.25, 0.26, 0.27, 0.28, 0.29, 0.30, 0.31, 0.32, 0.33, 0.34, 0.35, 0.36, 0.37, 0.38, 0.39, 0.40, 0.41, 0.42, 0.43, 0.44, 0.45, 0.46, 0.47, 0.48, 0.49, 0.50, 0.51, 0.52, 0.53, 0.54, 0.55, 0.56, 0.57, 0.58, 0.59, 0.60, 0.61, 0.62, 0.63, 0.64, 0.65, 0.66, 0.67, 0.68, 0.69, 0.70, 0.71, 0.72, 0.73, 0.74, 0.75, 0.76, 0.77, 0.78, 0.79, 0.80, 0.81, 0.20, 0.21, 0.22, 0.23, 0.24, 0.25, 0.26, 0.27, 0.28, 0.29, 0.30, 0.31, 0.32, 0.33, 0.34, 0.35, 0.36, 0.37, 0.38, 0.39, 0.40, 0.41, 0.42, 0.43, 0.44, 0.45, 0.46, 0.47, 0.48, 0.49, 0.50, 0.51, 0.52, 0.53, 0.54, 0.55, 0.56, 0.57, 0.58, 0.59, 0.60, 0.61, 0.62, 0.63, 0.64, 0.65, 0.66, 0.67, 0.68, 0.69, 0.70, 0.71, 0.72, 0.73, 0.74, 0.75, 0.76, 0.77, 0.78, 0.79, 0.80, 0.81, 0.20, 0.21, 0.22, 0.23, 0.24, 0.25, 0.26, 0.27, 0.28, 0.29, 0.30, 0.31, 0.32, 0.33, 0.34, 0.35, 0.36, 0.37, 0.38, 0.39, 0.40, 0.41, 0.42, 0.43, 0.44, 0.45, 0.46, 0.47, 0.48, 0.49, 0.50, 0.51, 0.52, 0.53, 0.54, 0.55, 0.56, 0.57, 0.58, 0.59, 0.60, 0.61, 0.62, 0.63, 0.64, 0.65, 0.66, 0.67, 0.68, 0.69, 0.70, 0.71, 0.72, 0.73, 0.74, 0.75, 0.76, 0.77, 0.78, 0.79, 0.80, 0.81, "
     ]
    }
   ],
   "source": [
    "# Selected threshold\n",
    "alpha_a_threshold = threshold_selected(oof_alpha_a['class_1'], actual_alpha_a['alpha_a'])\n",
    "gamma_a_threshold = threshold_selected(oof_gamma_a['class_1'], actual_gamma_a['gamma_a'])\n",
    "gamma_b_threshold = threshold_selected(oof_gamma_b['class_1'], actual_gamma_b['gamma_b'])\n",
    "gamma_e_threshold = threshold_selected(oof_gamma_e['class_1'], actual_gamma_e['gamma_e'])\n",
    "gamma_h_threshold = threshold_selected(oof_gamma_h['class_1'], actual_gamma_h['gamma_h'])"
   ]
  },
  {
   "cell_type": "code",
   "execution_count": 790,
   "metadata": {},
   "outputs": [
    {
     "data": {
      "text/plain": [
       "0.22000000000000003"
      ]
     },
     "execution_count": 790,
     "metadata": {},
     "output_type": "execute_result"
    }
   ],
   "source": [
    "gamma_h_threshold"
   ]
  },
  {
   "cell_type": "code",
   "execution_count": 791,
   "metadata": {},
   "outputs": [],
   "source": [
    "def feature_flag(data, threshold):\n",
    "    return data.class_1.apply(lambda x: 1 if x >= threshold else 0)"
   ]
  },
  {
   "cell_type": "code",
   "execution_count": 792,
   "metadata": {},
   "outputs": [],
   "source": [
    "# Predict alpha_a feature\n",
    "oof_alpha_a['alpha_a_flag'] = feature_flag(oof_alpha_a, alpha_a_threshold)\n",
    "oof_alpha_a = oof_alpha_a.reset_index()\n",
    "oof_gamma_a['gamma_a_flag'] = feature_flag(oof_gamma_a, gamma_a_threshold)\n",
    "oof_gamma_a = oof_gamma_a.reset_index()\n",
    "oof_gamma_b['gamma_b_flag'] = feature_flag(oof_gamma_b, gamma_b_threshold)\n",
    "oof_gamma_b = oof_gamma_b.reset_index()\n",
    "oof_gamma_e['gamma_e_flag'] = feature_flag(oof_gamma_e, gamma_e_threshold)\n",
    "oof_gamma_e = oof_gamma_e.reset_index()\n",
    "oof_gamma_h['gamma_h_flag'] = feature_flag(oof_gamma_h, gamma_h_threshold)\n",
    "oof_gamma_h = oof_gamma_h.reset_index()\n"
   ]
  },
  {
   "cell_type": "code",
   "execution_count": 793,
   "metadata": {},
   "outputs": [],
   "source": [
    "concat_list = [merge_df, oof_alpha_a['alpha_a_flag'], oof_gamma_a['gamma_a_flag'], oof_gamma_b['gamma_b_flag']\n",
    "               , oof_gamma_e['gamma_e_flag'], oof_gamma_h['gamma_h_flag']]\n",
    "# concat_list = [merge_df, oof_alpha_a['alpha_a_flag']]\n",
    "merge_df = pd.concat(concat_list, axis=1)\n",
    "merge_df['gamma_flag'] = merge_df['gamma_a_flag'] + merge_df['gamma_b_flag'] + merge_df['gamma_e_flag'] + merge_df['gamma_h_flag']"
   ]
  },
  {
   "cell_type": "code",
   "execution_count": 695,
   "metadata": {},
   "outputs": [
    {
     "name": "stdout",
     "output_type": "stream",
     "text": [
      "0.20, 0.21, 0.22, 0.23, 0.24, 0.25, 0.26, 0.27, 0.28, 0.29, 0.30, 0.31, 0.32, 0.33, 0.34, 0.35, 0.36, 0.37, 0.38, 0.39, 0.40, 0.41, 0.42, 0.43, 0.44, 0.45, 0.46, 0.47, 0.48, 0.49, 0.50, 0.51, 0.52, 0.53, 0.54, 0.55, 0.56, 0.57, 0.58, 0.59, 0.60, 0.61, 0.62, 0.63, 0.64, 0.65, 0.66, 0.67, 0.68, 0.69, 0.70, 0.71, 0.72, 0.73, 0.74, 0.75, 0.76, 0.77, 0.78, 0.79, 0.80, 0.81, "
     ]
    }
   ],
   "source": [
    "# # Find best threshold\n",
    "# from sklearn.metrics import f1_score\n",
    "# # Find best threshold to convert probs into 1s and 0s\n",
    "# scores = []; thresholds = []\n",
    "# best_score = 0; best_threshold = 0\n",
    "\n",
    "# for threshold in np.arange(0.2, 0.81, 0.01): # np.arange(start, end(but not include), step) \n",
    "#     # but why use range at 0.4 - 0.8? --> i assume that proper range to identify that good or bad threshold\n",
    "#     print(f'{threshold:.02f}, ', end='')\n",
    "#     preds = (oof_alpha_a['class_1'].values.reshape((-1))>threshold).astype('int') #get all pred values and check if > threshold then true and covert true to int vice versa with false\n",
    "#     m = f1_score(actual['alpha_a'].values.reshape((-1)).astype('int'), preds, average='macro') # make sure that actual & predict same type if not will cause error \n",
    "#     scores.append(m) # collect data because this use for plot\n",
    "#     thresholds.append(threshold) # collect data because this use for plot\n",
    "#     # this part below just collect best score & threshold\n",
    "#     if m>best_score:\n",
    "#         best_score = m \n",
    "#         best_threshold = threshold"
   ]
  },
  {
   "cell_type": "code",
   "execution_count": 696,
   "metadata": {},
   "outputs": [
    {
     "data": {
      "image/png": "[encoded data removed]",
      "text/plain": [
       "<Figure size 1440x360 with 1 Axes>"
      ]
     },
     "metadata": {
      "needs_background": "light"
     },
     "output_type": "display_data"
    }
   ],
   "source": [
    "# import matplotlib.pylab as plt\n",
    "# # Plot Threshold vs F1 score\n",
    "# plt.figure(figsize=(20,5))\n",
    "# plt.plot(thresholds, scores, '-o', color='blue') # plot all threshold & scores\n",
    "# plt.scatter([best_threshold], [best_score], color='blue', s=300, alpha=1) # make best point are more bigger\n",
    "# plt.xlabel('Threshold', size = 14)\n",
    "# plt.ylabel('Validation F1 score', size = 14)\n",
    "# plt.title(f'Threshold vs. F1_score with best F1_score = {best_score:.3f} at Best Threshold = {best_threshold:.3f}', size = 18)\n",
    "# plt.show()"
   ]
  },
  {
   "cell_type": "code",
   "execution_count": 697,
   "metadata": {},
   "outputs": [
    {
     "data": {
      "text/plain": [
       "0.38000000000000017"
      ]
     },
     "execution_count": 697,
     "metadata": {},
     "output_type": "execute_result"
    }
   ],
   "source": [
    "# best_threshold"
   ]
  },
  {
   "cell_type": "code",
   "execution_count": 808,
   "metadata": {},
   "outputs": [],
   "source": [
    "\n",
    "# exclude_cols = ['id','ej', 'alpha', 'beta', 'gamma', 'delta', 'epsilon', 'class'\n",
    "#                 , 'alpha_a', 'alpha_b', 'alpha_d','alpha_g', 'gamma_a', 'gamma_b', 'gamma_e', 'gamma_h', 'is_unknown']\n",
    "# FEATURES = [c for c in merge_df.columns if c not in exclude_cols]\n",
    "# df_tr = merge_df[FEATURES] \n",
    "# df_tr_label = merge_df[['class']]\n",
    "# merge_df.head()\n",
    "# FINAL_FEATURES = ['alpha_a_flag', 'gamma_a_flag', 'gamma_b_flag', 'gamma_e_flag', 'gamma_h_flag', 'gamma_flag']\n",
    "FINAL_FEATURES = ['alpha_a_flag', 'gamma_flag']"
   ]
  },
  {
   "cell_type": "code",
   "execution_count": 809,
   "metadata": {},
   "outputs": [],
   "source": [
    "ALL_IDS = merge_df.id.unique()\n",
    "oof = pd.DataFrame(data=np.zeros((len(ALL_IDS), 2)), index=ALL_IDS, columns=['class_0', 'class_1'])"
   ]
  },
  {
   "cell_type": "code",
   "execution_count": 810,
   "metadata": {},
   "outputs": [
    {
     "name": "stdout",
     "output_type": "stream",
     "text": [
      "-------------------------\n",
      "--- Fold 1\n",
      "-------------------------\n",
      "[LightGBM] [Warning] Unknown parameter: learning\n"
     ]
    },
    {
     "name": "stderr",
     "output_type": "stream",
     "text": [
      "/usr/local/lib/python3.9/site-packages/lightgbm/engine.py:177: UserWarning: Found `num_iterations` in params. Will use it instead of argument\n",
      "  _log_warning(f\"Found `{alias}` in params. Will use it instead of argument\")\n"
     ]
    },
    {
     "name": "stdout",
     "output_type": "stream",
     "text": [
      "-------------------------\n",
      "--- Fold 2\n",
      "-------------------------\n",
      "[LightGBM] [Warning] Unknown parameter: learning\n"
     ]
    },
    {
     "name": "stderr",
     "output_type": "stream",
     "text": [
      "/usr/local/lib/python3.9/site-packages/lightgbm/engine.py:177: UserWarning: Found `num_iterations` in params. Will use it instead of argument\n",
      "  _log_warning(f\"Found `{alias}` in params. Will use it instead of argument\")\n"
     ]
    },
    {
     "name": "stdout",
     "output_type": "stream",
     "text": [
      "-------------------------\n",
      "--- Fold 3\n",
      "-------------------------\n",
      "[LightGBM] [Warning] Unknown parameter: learning\n",
      "-------------------------\n",
      "--- Fold 4\n",
      "-------------------------\n",
      "[LightGBM] [Warning] Unknown parameter: learning\n"
     ]
    },
    {
     "name": "stderr",
     "output_type": "stream",
     "text": [
      "/usr/local/lib/python3.9/site-packages/lightgbm/engine.py:177: UserWarning: Found `num_iterations` in params. Will use it instead of argument\n",
      "  _log_warning(f\"Found `{alias}` in params. Will use it instead of argument\")\n",
      "/usr/local/lib/python3.9/site-packages/lightgbm/engine.py:177: UserWarning: Found `num_iterations` in params. Will use it instead of argument\n",
      "  _log_warning(f\"Found `{alias}` in params. Will use it instead of argument\")\n"
     ]
    },
    {
     "name": "stdout",
     "output_type": "stream",
     "text": [
      "-------------------------\n",
      "--- Fold 5\n",
      "-------------------------\n",
      "[LightGBM] [Warning] Unknown parameter: learning\n"
     ]
    },
    {
     "name": "stderr",
     "output_type": "stream",
     "text": [
      "/usr/local/lib/python3.9/site-packages/lightgbm/engine.py:177: UserWarning: Found `num_iterations` in params. Will use it instead of argument\n",
      "  _log_warning(f\"Found `{alias}` in params. Will use it instead of argument\")\n"
     ]
    }
   ],
   "source": [
    "oof = predict_feature(model, 'class', merge_df, oof, FINAL_FEATURES)\n"
   ]
  },
  {
   "cell_type": "code",
   "execution_count": 811,
   "metadata": {},
   "outputs": [
    {
     "data": {
      "text/html": [
       "<div>\n",
       "<style scoped>\n",
       "    .dataframe tbody tr th:only-of-type {\n",
       "        vertical-align: middle;\n",
       "    }\n",
       "\n",
       "    .dataframe tbody tr th {\n",
       "        vertical-align: top;\n",
       "    }\n",
       "\n",
       "    .dataframe thead th {\n",
       "        text-align: right;\n",
       "    }\n",
       "</style>\n",
       "<table border=\"1\" class=\"dataframe\">\n",
       "  <thead>\n",
       "    <tr style=\"text-align: right;\">\n",
       "      <th></th>\n",
       "      <th>class_0</th>\n",
       "      <th>class_1</th>\n",
       "    </tr>\n",
       "  </thead>\n",
       "  <tbody>\n",
       "    <tr>\n",
       "      <th>000ff2bfdfe9</th>\n",
       "      <td>0.076923</td>\n",
       "      <td>0.923077</td>\n",
       "    </tr>\n",
       "    <tr>\n",
       "      <th>007255e47698</th>\n",
       "      <td>0.946731</td>\n",
       "      <td>0.053269</td>\n",
       "    </tr>\n",
       "    <tr>\n",
       "      <th>013f2bd269f5</th>\n",
       "      <td>0.959427</td>\n",
       "      <td>0.040573</td>\n",
       "    </tr>\n",
       "    <tr>\n",
       "      <th>043ac50845d5</th>\n",
       "      <td>0.954545</td>\n",
       "      <td>0.045455</td>\n",
       "    </tr>\n",
       "    <tr>\n",
       "      <th>044fb8a146ec</th>\n",
       "      <td>0.961894</td>\n",
       "      <td>0.038106</td>\n",
       "    </tr>\n",
       "  </tbody>\n",
       "</table>\n",
       "</div>"
      ],
      "text/plain": [
       "               class_0   class_1\n",
       "000ff2bfdfe9  0.076923  0.923077\n",
       "007255e47698  0.946731  0.053269\n",
       "013f2bd269f5  0.959427  0.040573\n",
       "043ac50845d5  0.954545  0.045455\n",
       "044fb8a146ec  0.961894  0.038106"
      ]
     },
     "execution_count": 811,
     "metadata": {},
     "output_type": "execute_result"
    }
   ],
   "source": [
    "oof.head()"
   ]
  },
  {
   "cell_type": "code",
   "execution_count": 812,
   "metadata": {},
   "outputs": [],
   "source": [
    "from sklearn.metrics import log_loss\n",
    "def balanced_log_loss(y_true, y_pred):\n",
    "    nc = np.bincount(y_true)\n",
    "    return log_loss(y_true, y_pred, sample_weight=1/nc[y_true], eps=1e-15)"
   ]
  },
  {
   "cell_type": "code",
   "execution_count": 813,
   "metadata": {},
   "outputs": [
    {
     "data": {
      "text/plain": [
       "0.436271978569661"
      ]
     },
     "execution_count": 813,
     "metadata": {},
     "output_type": "execute_result"
    }
   ],
   "source": [
    "y_true = merge_df['class']\n",
    "y_pred = oof['class_1']\n",
    "balanced_log_loss(y_true, y_pred)\n",
    "# Best score is 0.7449367545977311\n",
    "# now is 6.823326702712194e-06?"
   ]
  },
  {
   "cell_type": "code",
   "execution_count": 733,
   "metadata": {},
   "outputs": [
    {
     "data": {
      "text/plain": [
       "000ff2bfdfe9    9.999494e-01\n",
       "007255e47698    1.510898e-08\n",
       "013f2bd269f5    2.053474e-06\n",
       "043ac50845d5    1.217717e-05\n",
       "044fb8a146ec    3.235972e-05\n",
       "                    ...     \n",
       "fd3dafe738fd    4.407488e-07\n",
       "fd895603f071    5.364325e-05\n",
       "fd8ef6377f76    1.226446e-08\n",
       "fe1942975e40    3.035087e-08\n",
       "ffcca4ded3bb    3.551544e-08\n",
       "Name: class_1, Length: 617, dtype: float64"
      ]
     },
     "execution_count": 733,
     "metadata": {},
     "output_type": "execute_result"
    }
   ],
   "source": [
    "y_pred"
   ]
  },
  {
   "cell_type": "code",
   "execution_count": null,
   "metadata": {},
   "outputs": [],
   "source": []
  }
 ],
 "metadata": {
  "kernelspec": {
   "display_name": "Python 3",
   "language": "python",
   "name": "python3"
  },
  "language_info": {
   "codemirror_mode": {
    "name": "ipython",
    "version": 3
   },
   "file_extension": ".py",
   "mimetype": "text/x-python",
   "name": "python",
   "nbconvert_exporter": "python",
   "pygments_lexer": "ipython3",
   "version": "3.9.9"
  },
  "orig_nbformat": 4
 },
 "nbformat": 4,
 "nbformat_minor": 2
}
