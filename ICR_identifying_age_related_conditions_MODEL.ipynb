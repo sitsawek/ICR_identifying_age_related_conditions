{
 "cells": [
  {
   "cell_type": "code",
   "execution_count": 640,
   "metadata": {},
   "outputs": [],
   "source": [
    "import pandas as pd \n",
    "from sklearn.model_selection import GroupKFold\n",
    "from lightgbm import LGBMClassifier\n",
    "import numpy as np\n",
    "import seaborn as sns\n",
    "pd.set_option('display.max_columns', 200)"
   ]
  },
  {
   "cell_type": "code",
   "execution_count": 1233,
   "metadata": {},
   "outputs": [],
   "source": [
    "path = '/Users/macintosh/Desktop/data_completitions/Kaggle/2023/icr-identify-age-related-conditions'\n",
    "df_greeks = pd.read_csv(path+'/greeks.csv')\n",
    "df_sample_sub = pd.read_csv(path+'/sample_submission.csv')\n",
    "df_test = pd.read_csv(path+'/test.csv')\n",
    "df_train = pd.read_csv(path+'/train.csv')"
   ]
  },
  {
   "cell_type": "code",
   "execution_count": 1234,
   "metadata": {},
   "outputs": [],
   "source": [
    "df_greeks.columns = df_greeks.columns.str.lower().str.replace(' ', '')\n",
    "df_sample_sub.columns = df_sample_sub.columns.str.lower().str.replace(' ', '')\n",
    "df_test.columns = df_test.columns.str.lower().str.replace(' ', '')\n",
    "df_train.columns = df_train.columns.str.lower().str.replace(' ', '')"
   ]
  },
  {
   "cell_type": "code",
   "execution_count": 1235,
   "metadata": {},
   "outputs": [],
   "source": [
    "merge_df = df_train.merge(df_greeks, how='left', left_on='id', right_on='id')"
   ]
  },
  {
   "cell_type": "code",
   "execution_count": 1236,
   "metadata": {},
   "outputs": [
    {
     "data": {
      "text/html": [
       "<div>\n",
       "<style scoped>\n",
       "    .dataframe tbody tr th:only-of-type {\n",
       "        vertical-align: middle;\n",
       "    }\n",
       "\n",
       "    .dataframe tbody tr th {\n",
       "        vertical-align: top;\n",
       "    }\n",
       "\n",
       "    .dataframe thead th {\n",
       "        text-align: right;\n",
       "    }\n",
       "</style>\n",
       "<table border=\"1\" class=\"dataframe\">\n",
       "  <thead>\n",
       "    <tr style=\"text-align: right;\">\n",
       "      <th></th>\n",
       "      <th>id</th>\n",
       "      <th>ab</th>\n",
       "      <th>af</th>\n",
       "      <th>ah</th>\n",
       "      <th>am</th>\n",
       "      <th>ar</th>\n",
       "      <th>ax</th>\n",
       "      <th>ay</th>\n",
       "      <th>az</th>\n",
       "      <th>bc</th>\n",
       "      <th>bd</th>\n",
       "      <th>bn</th>\n",
       "      <th>bp</th>\n",
       "      <th>bq</th>\n",
       "      <th>br</th>\n",
       "      <th>bz</th>\n",
       "      <th>cb</th>\n",
       "      <th>cc</th>\n",
       "      <th>cd</th>\n",
       "      <th>cf</th>\n",
       "      <th>ch</th>\n",
       "      <th>cl</th>\n",
       "      <th>cr</th>\n",
       "      <th>cs</th>\n",
       "      <th>cu</th>\n",
       "      <th>cw</th>\n",
       "      <th>da</th>\n",
       "      <th>de</th>\n",
       "      <th>df</th>\n",
       "      <th>dh</th>\n",
       "      <th>di</th>\n",
       "      <th>dl</th>\n",
       "      <th>dn</th>\n",
       "      <th>du</th>\n",
       "      <th>dv</th>\n",
       "      <th>dy</th>\n",
       "      <th>eb</th>\n",
       "      <th>ee</th>\n",
       "      <th>eg</th>\n",
       "      <th>eh</th>\n",
       "      <th>ej</th>\n",
       "      <th>el</th>\n",
       "      <th>ep</th>\n",
       "      <th>eu</th>\n",
       "      <th>fc</th>\n",
       "      <th>fd</th>\n",
       "      <th>fe</th>\n",
       "      <th>fi</th>\n",
       "      <th>fl</th>\n",
       "      <th>fr</th>\n",
       "      <th>fs</th>\n",
       "      <th>gb</th>\n",
       "      <th>ge</th>\n",
       "      <th>gf</th>\n",
       "      <th>gh</th>\n",
       "      <th>gi</th>\n",
       "      <th>gl</th>\n",
       "      <th>class</th>\n",
       "      <th>alpha</th>\n",
       "      <th>beta</th>\n",
       "      <th>gamma</th>\n",
       "      <th>delta</th>\n",
       "      <th>epsilon</th>\n",
       "    </tr>\n",
       "  </thead>\n",
       "  <tbody>\n",
       "    <tr>\n",
       "      <th>0</th>\n",
       "      <td>000ff2bfdfe9</td>\n",
       "      <td>0.209377</td>\n",
       "      <td>3109.03329</td>\n",
       "      <td>85.200147</td>\n",
       "      <td>22.394407</td>\n",
       "      <td>8.138688</td>\n",
       "      <td>0.699861</td>\n",
       "      <td>0.025578</td>\n",
       "      <td>9.812214</td>\n",
       "      <td>5.555634</td>\n",
       "      <td>4126.58731</td>\n",
       "      <td>22.5984</td>\n",
       "      <td>175.638726</td>\n",
       "      <td>152.707705</td>\n",
       "      <td>823.928241</td>\n",
       "      <td>257.432377</td>\n",
       "      <td>47.223358</td>\n",
       "      <td>0.563481</td>\n",
       "      <td>23.387600</td>\n",
       "      <td>4.851915</td>\n",
       "      <td>0.023482</td>\n",
       "      <td>1.050225</td>\n",
       "      <td>0.069225</td>\n",
       "      <td>13.784111</td>\n",
       "      <td>1.302012</td>\n",
       "      <td>36.205956</td>\n",
       "      <td>69.08340</td>\n",
       "      <td>295.570575</td>\n",
       "      <td>0.23868</td>\n",
       "      <td>0.284232</td>\n",
       "      <td>89.245560</td>\n",
       "      <td>84.31664</td>\n",
       "      <td>29.657104</td>\n",
       "      <td>5.310690</td>\n",
       "      <td>1.74307</td>\n",
       "      <td>23.187704</td>\n",
       "      <td>7.294176</td>\n",
       "      <td>1.987283</td>\n",
       "      <td>1433.166750</td>\n",
       "      <td>0.949104</td>\n",
       "      <td>B</td>\n",
       "      <td>30.879420</td>\n",
       "      <td>78.526968</td>\n",
       "      <td>3.828384</td>\n",
       "      <td>13.394640</td>\n",
       "      <td>10.265073</td>\n",
       "      <td>9028.291921</td>\n",
       "      <td>3.583450</td>\n",
       "      <td>7.298162</td>\n",
       "      <td>1.73855</td>\n",
       "      <td>0.094822</td>\n",
       "      <td>11.339138</td>\n",
       "      <td>72.611063</td>\n",
       "      <td>2003.810319</td>\n",
       "      <td>22.136229</td>\n",
       "      <td>69.834944</td>\n",
       "      <td>0.120343</td>\n",
       "      <td>1</td>\n",
       "      <td>B</td>\n",
       "      <td>C</td>\n",
       "      <td>G</td>\n",
       "      <td>D</td>\n",
       "      <td>3/19/2019</td>\n",
       "    </tr>\n",
       "    <tr>\n",
       "      <th>1</th>\n",
       "      <td>007255e47698</td>\n",
       "      <td>0.145282</td>\n",
       "      <td>978.76416</td>\n",
       "      <td>85.200147</td>\n",
       "      <td>36.968889</td>\n",
       "      <td>8.138688</td>\n",
       "      <td>3.632190</td>\n",
       "      <td>0.025578</td>\n",
       "      <td>13.517790</td>\n",
       "      <td>1.229900</td>\n",
       "      <td>5496.92824</td>\n",
       "      <td>19.4205</td>\n",
       "      <td>155.868030</td>\n",
       "      <td>14.754720</td>\n",
       "      <td>51.216883</td>\n",
       "      <td>257.432377</td>\n",
       "      <td>30.284345</td>\n",
       "      <td>0.484710</td>\n",
       "      <td>50.628208</td>\n",
       "      <td>6.085041</td>\n",
       "      <td>0.031442</td>\n",
       "      <td>1.113875</td>\n",
       "      <td>1.117800</td>\n",
       "      <td>28.310953</td>\n",
       "      <td>1.357182</td>\n",
       "      <td>37.476568</td>\n",
       "      <td>70.79836</td>\n",
       "      <td>178.553100</td>\n",
       "      <td>0.23868</td>\n",
       "      <td>0.363489</td>\n",
       "      <td>110.581815</td>\n",
       "      <td>75.74548</td>\n",
       "      <td>37.532000</td>\n",
       "      <td>0.005518</td>\n",
       "      <td>1.74307</td>\n",
       "      <td>17.222328</td>\n",
       "      <td>4.926396</td>\n",
       "      <td>0.858603</td>\n",
       "      <td>1111.287150</td>\n",
       "      <td>0.003042</td>\n",
       "      <td>A</td>\n",
       "      <td>109.125159</td>\n",
       "      <td>95.415086</td>\n",
       "      <td>52.260480</td>\n",
       "      <td>17.175984</td>\n",
       "      <td>0.296850</td>\n",
       "      <td>6785.003474</td>\n",
       "      <td>10.358927</td>\n",
       "      <td>0.173229</td>\n",
       "      <td>0.49706</td>\n",
       "      <td>0.568932</td>\n",
       "      <td>9.292698</td>\n",
       "      <td>72.611063</td>\n",
       "      <td>27981.562750</td>\n",
       "      <td>29.135430</td>\n",
       "      <td>32.131996</td>\n",
       "      <td>21.978000</td>\n",
       "      <td>0</td>\n",
       "      <td>A</td>\n",
       "      <td>C</td>\n",
       "      <td>M</td>\n",
       "      <td>B</td>\n",
       "      <td>Unknown</td>\n",
       "    </tr>\n",
       "    <tr>\n",
       "      <th>2</th>\n",
       "      <td>013f2bd269f5</td>\n",
       "      <td>0.470030</td>\n",
       "      <td>2635.10654</td>\n",
       "      <td>85.200147</td>\n",
       "      <td>32.360553</td>\n",
       "      <td>8.138688</td>\n",
       "      <td>6.732840</td>\n",
       "      <td>0.025578</td>\n",
       "      <td>12.824570</td>\n",
       "      <td>1.229900</td>\n",
       "      <td>5135.78024</td>\n",
       "      <td>26.4825</td>\n",
       "      <td>128.988531</td>\n",
       "      <td>219.320160</td>\n",
       "      <td>482.141594</td>\n",
       "      <td>257.432377</td>\n",
       "      <td>32.563713</td>\n",
       "      <td>0.495852</td>\n",
       "      <td>85.955376</td>\n",
       "      <td>5.376488</td>\n",
       "      <td>0.036218</td>\n",
       "      <td>1.050225</td>\n",
       "      <td>0.700350</td>\n",
       "      <td>39.364743</td>\n",
       "      <td>1.009611</td>\n",
       "      <td>21.459644</td>\n",
       "      <td>70.81970</td>\n",
       "      <td>321.426625</td>\n",
       "      <td>0.23868</td>\n",
       "      <td>0.210441</td>\n",
       "      <td>120.056438</td>\n",
       "      <td>65.46984</td>\n",
       "      <td>28.053464</td>\n",
       "      <td>1.289739</td>\n",
       "      <td>1.74307</td>\n",
       "      <td>36.861352</td>\n",
       "      <td>7.813674</td>\n",
       "      <td>8.146651</td>\n",
       "      <td>1494.076488</td>\n",
       "      <td>0.377208</td>\n",
       "      <td>B</td>\n",
       "      <td>109.125159</td>\n",
       "      <td>78.526968</td>\n",
       "      <td>5.390628</td>\n",
       "      <td>224.207424</td>\n",
       "      <td>8.745201</td>\n",
       "      <td>8338.906181</td>\n",
       "      <td>11.626917</td>\n",
       "      <td>7.709560</td>\n",
       "      <td>0.97556</td>\n",
       "      <td>1.198821</td>\n",
       "      <td>37.077772</td>\n",
       "      <td>88.609437</td>\n",
       "      <td>13676.957810</td>\n",
       "      <td>28.022851</td>\n",
       "      <td>35.192676</td>\n",
       "      <td>0.196941</td>\n",
       "      <td>0</td>\n",
       "      <td>A</td>\n",
       "      <td>C</td>\n",
       "      <td>M</td>\n",
       "      <td>B</td>\n",
       "      <td>Unknown</td>\n",
       "    </tr>\n",
       "    <tr>\n",
       "      <th>3</th>\n",
       "      <td>043ac50845d5</td>\n",
       "      <td>0.252107</td>\n",
       "      <td>3819.65177</td>\n",
       "      <td>120.201618</td>\n",
       "      <td>77.112203</td>\n",
       "      <td>8.138688</td>\n",
       "      <td>3.685344</td>\n",
       "      <td>0.025578</td>\n",
       "      <td>11.053708</td>\n",
       "      <td>1.229900</td>\n",
       "      <td>4169.67738</td>\n",
       "      <td>23.6577</td>\n",
       "      <td>237.282264</td>\n",
       "      <td>11.050410</td>\n",
       "      <td>661.518640</td>\n",
       "      <td>257.432377</td>\n",
       "      <td>15.201914</td>\n",
       "      <td>0.717882</td>\n",
       "      <td>88.159360</td>\n",
       "      <td>2.347652</td>\n",
       "      <td>0.029054</td>\n",
       "      <td>1.400300</td>\n",
       "      <td>0.636075</td>\n",
       "      <td>41.116960</td>\n",
       "      <td>0.722727</td>\n",
       "      <td>21.530392</td>\n",
       "      <td>47.27586</td>\n",
       "      <td>196.607985</td>\n",
       "      <td>0.23868</td>\n",
       "      <td>0.292431</td>\n",
       "      <td>139.824570</td>\n",
       "      <td>71.57120</td>\n",
       "      <td>24.354856</td>\n",
       "      <td>2.655345</td>\n",
       "      <td>1.74307</td>\n",
       "      <td>52.003884</td>\n",
       "      <td>7.386060</td>\n",
       "      <td>3.813326</td>\n",
       "      <td>15691.552180</td>\n",
       "      <td>0.614484</td>\n",
       "      <td>B</td>\n",
       "      <td>31.674357</td>\n",
       "      <td>78.526968</td>\n",
       "      <td>31.323372</td>\n",
       "      <td>59.301984</td>\n",
       "      <td>7.884336</td>\n",
       "      <td>10965.766040</td>\n",
       "      <td>14.852022</td>\n",
       "      <td>6.122162</td>\n",
       "      <td>0.49706</td>\n",
       "      <td>0.284466</td>\n",
       "      <td>18.529584</td>\n",
       "      <td>82.416803</td>\n",
       "      <td>2094.262452</td>\n",
       "      <td>39.948656</td>\n",
       "      <td>90.493248</td>\n",
       "      <td>0.155829</td>\n",
       "      <td>0</td>\n",
       "      <td>A</td>\n",
       "      <td>C</td>\n",
       "      <td>M</td>\n",
       "      <td>B</td>\n",
       "      <td>Unknown</td>\n",
       "    </tr>\n",
       "    <tr>\n",
       "      <th>4</th>\n",
       "      <td>044fb8a146ec</td>\n",
       "      <td>0.380297</td>\n",
       "      <td>3733.04844</td>\n",
       "      <td>85.200147</td>\n",
       "      <td>14.103738</td>\n",
       "      <td>8.138688</td>\n",
       "      <td>3.942255</td>\n",
       "      <td>0.054810</td>\n",
       "      <td>3.396778</td>\n",
       "      <td>102.151980</td>\n",
       "      <td>5728.73412</td>\n",
       "      <td>24.0108</td>\n",
       "      <td>324.546318</td>\n",
       "      <td>149.717165</td>\n",
       "      <td>6074.859475</td>\n",
       "      <td>257.432377</td>\n",
       "      <td>82.213495</td>\n",
       "      <td>0.536467</td>\n",
       "      <td>72.644264</td>\n",
       "      <td>30.537722</td>\n",
       "      <td>0.025472</td>\n",
       "      <td>1.050225</td>\n",
       "      <td>0.693150</td>\n",
       "      <td>31.724726</td>\n",
       "      <td>0.827550</td>\n",
       "      <td>34.415360</td>\n",
       "      <td>74.06532</td>\n",
       "      <td>200.178160</td>\n",
       "      <td>0.23868</td>\n",
       "      <td>0.207708</td>\n",
       "      <td>97.920120</td>\n",
       "      <td>52.83888</td>\n",
       "      <td>26.019912</td>\n",
       "      <td>1.144902</td>\n",
       "      <td>1.74307</td>\n",
       "      <td>9.064856</td>\n",
       "      <td>7.350720</td>\n",
       "      <td>3.490846</td>\n",
       "      <td>1403.656300</td>\n",
       "      <td>0.164268</td>\n",
       "      <td>B</td>\n",
       "      <td>109.125159</td>\n",
       "      <td>91.994825</td>\n",
       "      <td>51.141336</td>\n",
       "      <td>29.102640</td>\n",
       "      <td>4.274640</td>\n",
       "      <td>16198.049590</td>\n",
       "      <td>13.666727</td>\n",
       "      <td>8.153058</td>\n",
       "      <td>48.50134</td>\n",
       "      <td>0.121914</td>\n",
       "      <td>16.408728</td>\n",
       "      <td>146.109943</td>\n",
       "      <td>8524.370502</td>\n",
       "      <td>45.381316</td>\n",
       "      <td>36.262628</td>\n",
       "      <td>0.096614</td>\n",
       "      <td>1</td>\n",
       "      <td>D</td>\n",
       "      <td>B</td>\n",
       "      <td>F</td>\n",
       "      <td>B</td>\n",
       "      <td>3/25/2020</td>\n",
       "    </tr>\n",
       "  </tbody>\n",
       "</table>\n",
       "</div>"
      ],
      "text/plain": [
       "             id        ab          af          ah         am        ar   \n",
       "0  000ff2bfdfe9  0.209377  3109.03329   85.200147  22.394407  8.138688  \\\n",
       "1  007255e47698  0.145282   978.76416   85.200147  36.968889  8.138688   \n",
       "2  013f2bd269f5  0.470030  2635.10654   85.200147  32.360553  8.138688   \n",
       "3  043ac50845d5  0.252107  3819.65177  120.201618  77.112203  8.138688   \n",
       "4  044fb8a146ec  0.380297  3733.04844   85.200147  14.103738  8.138688   \n",
       "\n",
       "         ax        ay         az          bc          bd       bn          bp   \n",
       "0  0.699861  0.025578   9.812214    5.555634  4126.58731  22.5984  175.638726  \\\n",
       "1  3.632190  0.025578  13.517790    1.229900  5496.92824  19.4205  155.868030   \n",
       "2  6.732840  0.025578  12.824570    1.229900  5135.78024  26.4825  128.988531   \n",
       "3  3.685344  0.025578  11.053708    1.229900  4169.67738  23.6577  237.282264   \n",
       "4  3.942255  0.054810   3.396778  102.151980  5728.73412  24.0108  324.546318   \n",
       "\n",
       "           bq           br          bz         cb        cc         cd   \n",
       "0  152.707705   823.928241  257.432377  47.223358  0.563481  23.387600  \\\n",
       "1   14.754720    51.216883  257.432377  30.284345  0.484710  50.628208   \n",
       "2  219.320160   482.141594  257.432377  32.563713  0.495852  85.955376   \n",
       "3   11.050410   661.518640  257.432377  15.201914  0.717882  88.159360   \n",
       "4  149.717165  6074.859475  257.432377  82.213495  0.536467  72.644264   \n",
       "\n",
       "          cf        ch        cl        cr         cs        cu         cw   \n",
       "0   4.851915  0.023482  1.050225  0.069225  13.784111  1.302012  36.205956  \\\n",
       "1   6.085041  0.031442  1.113875  1.117800  28.310953  1.357182  37.476568   \n",
       "2   5.376488  0.036218  1.050225  0.700350  39.364743  1.009611  21.459644   \n",
       "3   2.347652  0.029054  1.400300  0.636075  41.116960  0.722727  21.530392   \n",
       "4  30.537722  0.025472  1.050225  0.693150  31.724726  0.827550  34.415360   \n",
       "\n",
       "         da          de       df        dh          di        dl         dn   \n",
       "0  69.08340  295.570575  0.23868  0.284232   89.245560  84.31664  29.657104  \\\n",
       "1  70.79836  178.553100  0.23868  0.363489  110.581815  75.74548  37.532000   \n",
       "2  70.81970  321.426625  0.23868  0.210441  120.056438  65.46984  28.053464   \n",
       "3  47.27586  196.607985  0.23868  0.292431  139.824570  71.57120  24.354856   \n",
       "4  74.06532  200.178160  0.23868  0.207708   97.920120  52.83888  26.019912   \n",
       "\n",
       "         du       dv         dy        eb        ee            eg        eh   \n",
       "0  5.310690  1.74307  23.187704  7.294176  1.987283   1433.166750  0.949104  \\\n",
       "1  0.005518  1.74307  17.222328  4.926396  0.858603   1111.287150  0.003042   \n",
       "2  1.289739  1.74307  36.861352  7.813674  8.146651   1494.076488  0.377208   \n",
       "3  2.655345  1.74307  52.003884  7.386060  3.813326  15691.552180  0.614484   \n",
       "4  1.144902  1.74307   9.064856  7.350720  3.490846   1403.656300  0.164268   \n",
       "\n",
       "  ej          el         ep         eu          fc         fd            fe   \n",
       "0  B   30.879420  78.526968   3.828384   13.394640  10.265073   9028.291921  \\\n",
       "1  A  109.125159  95.415086  52.260480   17.175984   0.296850   6785.003474   \n",
       "2  B  109.125159  78.526968   5.390628  224.207424   8.745201   8338.906181   \n",
       "3  B   31.674357  78.526968  31.323372   59.301984   7.884336  10965.766040   \n",
       "4  B  109.125159  91.994825  51.141336   29.102640   4.274640  16198.049590   \n",
       "\n",
       "          fi        fl        fr        fs         gb          ge   \n",
       "0   3.583450  7.298162   1.73855  0.094822  11.339138   72.611063  \\\n",
       "1  10.358927  0.173229   0.49706  0.568932   9.292698   72.611063   \n",
       "2  11.626917  7.709560   0.97556  1.198821  37.077772   88.609437   \n",
       "3  14.852022  6.122162   0.49706  0.284466  18.529584   82.416803   \n",
       "4  13.666727  8.153058  48.50134  0.121914  16.408728  146.109943   \n",
       "\n",
       "             gf         gh         gi         gl  class alpha beta gamma   \n",
       "0   2003.810319  22.136229  69.834944   0.120343      1     B    C     G  \\\n",
       "1  27981.562750  29.135430  32.131996  21.978000      0     A    C     M   \n",
       "2  13676.957810  28.022851  35.192676   0.196941      0     A    C     M   \n",
       "3   2094.262452  39.948656  90.493248   0.155829      0     A    C     M   \n",
       "4   8524.370502  45.381316  36.262628   0.096614      1     D    B     F   \n",
       "\n",
       "  delta    epsilon  \n",
       "0     D  3/19/2019  \n",
       "1     B    Unknown  \n",
       "2     B    Unknown  \n",
       "3     B    Unknown  \n",
       "4     B  3/25/2020  "
      ]
     },
     "execution_count": 1236,
     "metadata": {},
     "output_type": "execute_result"
    }
   ],
   "source": [
    "merge_df.head()"
   ]
  },
  {
   "cell_type": "code",
   "execution_count": 1237,
   "metadata": {},
   "outputs": [],
   "source": [
    "# New features\n",
    "# Alpha\n",
    "feature_alpha_df = pd.get_dummies(merge_df['alpha'])\n",
    "feature_alpha_df.columns = 'alpha_'+(feature_alpha_df.columns).str.lower()\n",
    "# Beta C\n",
    "feature_beta_df = pd.get_dummies(merge_df['beta'])\n",
    "SELECTED_BETA = ['C']\n",
    "feature_beta_df = feature_beta_df.loc[:,SELECTED_BETA]\n",
    "feature_beta_df.columns = 'beta_'+(feature_beta_df.columns).str.lower()\n",
    "# Gamma E, H, A, B, M, N flag\n",
    "feature_gamma_df = pd.get_dummies(merge_df['gamma'])\n",
    "SELECTED_GAMMA = ['A', 'B', 'E', 'H', 'M', 'N']\n",
    "feature_gamma_df = feature_gamma_df.loc[:,SELECTED_GAMMA]\n",
    "feature_gamma_df.columns = 'gamma_'+(feature_gamma_df.columns).str.lower() \n",
    "# Delta B\n",
    "feature_delta_df = pd.get_dummies(merge_df['delta'])\n",
    "SELECTED_DELTA = ['B']\n",
    "feature_delta_df = feature_delta_df.loc[:,SELECTED_DELTA]\n",
    "feature_delta_df.columns = 'delta_'+(feature_delta_df.columns).str.lower()\n",
    "# year 2020\n",
    "merge_df['year'] = merge_df.epsilon.apply(lambda x: x.split('/')[2]if x != 'Unknown' else '9999')\n",
    "feature_year2020_df = pd.get_dummies(merge_df['year'])\n",
    "SELECTED_YEAR = ['2020']\n",
    "feature_year2020_df = feature_year2020_df.loc[:,SELECTED_YEAR]\n",
    "feature_year2020_df.columns = 'year_'+(feature_year2020_df.columns).str.lower()\n",
    "# Unknown year\n",
    "merge_df['is_unknown'] = merge_df.epsilon.apply(lambda x: True if x == 'Unknown' else False)\n",
    "\n",
    "# Concat features\n",
    "merge_df = pd.concat([merge_df, feature_alpha_df, feature_gamma_df, feature_beta_df, feature_delta_df, feature_year2020_df], axis=1)"
   ]
  },
  {
   "cell_type": "code",
   "execution_count": 1239,
   "metadata": {},
   "outputs": [],
   "source": [
    "model = {}"
   ]
  },
  {
   "cell_type": "code",
   "execution_count": 1240,
   "metadata": {},
   "outputs": [],
   "source": [
    "exclude_cols = ['id','ej', 'alpha', 'beta', 'gamma', 'delta', 'epsilon', 'class'\n",
    "                , 'alpha_a', 'alpha_b', 'alpha_d','alpha_g', 'gamma_a', 'gamma_b', 'gamma_e', 'gamma_h', 'is_unknown'\n",
    "                , 'gamma_m', 'gamma_n', 'beta_c', 'delta_b', 'year_2020', 'year']\n",
    "PRE_FEATURES = [c for c in merge_df.columns if c not in exclude_cols]"
   ]
  },
  {
   "cell_type": "code",
   "execution_count": 1241,
   "metadata": {},
   "outputs": [],
   "source": [
    "ALL_IDS = merge_df.id.unique()\n",
    "oof_alpha_a = pd.DataFrame(data=np.zeros((len(ALL_IDS), 2)), index=ALL_IDS, columns=['class_0', 'class_1'])\n",
    "oof_gamma_a = pd.DataFrame(data=np.zeros((len(ALL_IDS), 2)), index=ALL_IDS, columns=['class_0', 'class_1'])\n",
    "oof_gamma_b = pd.DataFrame(data=np.zeros((len(ALL_IDS), 2)), index=ALL_IDS, columns=['class_0', 'class_1'])\n",
    "oof_gamma_e = pd.DataFrame(data=np.zeros((len(ALL_IDS), 2)), index=ALL_IDS, columns=['class_0', 'class_1'])\n",
    "oof_gamma_h = pd.DataFrame(data=np.zeros((len(ALL_IDS), 2)), index=ALL_IDS, columns=['class_0', 'class_1'])\n",
    "oof_unknown = pd.DataFrame(data=np.zeros((len(ALL_IDS), 2)), index=ALL_IDS, columns=['class_0', 'class_1'])\n",
    "oof_gamma_m = pd.DataFrame(data=np.zeros((len(ALL_IDS), 2)), index=ALL_IDS, columns=['class_0', 'class_1'])\n",
    "oof_gamma_n = pd.DataFrame(data=np.zeros((len(ALL_IDS), 2)), index=ALL_IDS, columns=['class_0', 'class_1'])\n",
    "oof_beta_c = pd.DataFrame(data=np.zeros((len(ALL_IDS), 2)), index=ALL_IDS, columns=['class_0', 'class_1'])\n",
    "oof_delta_b = pd.DataFrame(data=np.zeros((len(ALL_IDS), 2)), index=ALL_IDS, columns=['class_0', 'class_1'])\n",
    "oof_year_2020 = pd.DataFrame(data=np.zeros((len(ALL_IDS), 2)), index=ALL_IDS, columns=['class_0', 'class_1'])"
   ]
  },
  {
   "cell_type": "code",
   "execution_count": 1242,
   "metadata": {},
   "outputs": [],
   "source": [
    "def predict_feature(model_dict, model_name, data, output_data, features):\n",
    "    # Train with GroupKFold\n",
    "    gkf = GroupKFold(n_splits=5)\n",
    "    for i, (train_idx, test_idx) in enumerate(gkf.split(X=data, groups=data.index)):\n",
    "        print('-'*25)\n",
    "        print('--- Fold', i+1)\n",
    "        print('-'*25)\n",
    "        lgb_params={\n",
    "            'objective': 'binary',\n",
    "            'metric': 'auc',\n",
    "            'learning': 0.002,\n",
    "            'max_depth': 6,\n",
    "            'num_iterations':1000\n",
    "        }\n",
    "        # Train Data\n",
    "        train_x = data.iloc[train_idx]\n",
    "        train_y = data.loc[train_idx]\n",
    "\n",
    "        # Valid Data\n",
    "        valid_x = data.iloc[test_idx]\n",
    "        valid_ids = valid_x.id.values\n",
    "\n",
    "        # Train Model\n",
    "        clf = LGBMClassifier(**lgb_params)\n",
    "        clf.fit(train_x[features], train_y[f'{model_name}'])\n",
    "\n",
    "        # # Save Model\n",
    "        model_dict[f'{model_name}'] = clf\n",
    "        output_data.loc[valid_ids] = clf.predict_proba(valid_x[features])\n",
    "    return output_data\n",
    "    "
   ]
  },
  {
   "cell_type": "code",
   "execution_count": 1243,
   "metadata": {},
   "outputs": [
    {
     "name": "stdout",
     "output_type": "stream",
     "text": [
      "-------------------------\n",
      "--- Fold 1\n",
      "-------------------------\n",
      "[LightGBM] [Warning] Unknown parameter: learning\n"
     ]
    },
    {
     "name": "stderr",
     "output_type": "stream",
     "text": [
      "/usr/local/lib/python3.9/site-packages/lightgbm/engine.py:177: UserWarning: Found `num_iterations` in params. Will use it instead of argument\n",
      "  _log_warning(f\"Found `{alias}` in params. Will use it instead of argument\")\n"
     ]
    },
    {
     "name": "stdout",
     "output_type": "stream",
     "text": [
      "-------------------------\n",
      "--- Fold 2\n",
      "-------------------------\n",
      "[LightGBM] [Warning] Unknown parameter: learning\n"
     ]
    },
    {
     "name": "stderr",
     "output_type": "stream",
     "text": [
      "/usr/local/lib/python3.9/site-packages/lightgbm/engine.py:177: UserWarning: Found `num_iterations` in params. Will use it instead of argument\n",
      "  _log_warning(f\"Found `{alias}` in params. Will use it instead of argument\")\n"
     ]
    },
    {
     "name": "stdout",
     "output_type": "stream",
     "text": [
      "-------------------------\n",
      "--- Fold 3\n",
      "-------------------------\n",
      "[LightGBM] [Warning] Unknown parameter: learning\n"
     ]
    },
    {
     "name": "stderr",
     "output_type": "stream",
     "text": [
      "/usr/local/lib/python3.9/site-packages/lightgbm/engine.py:177: UserWarning: Found `num_iterations` in params. Will use it instead of argument\n",
      "  _log_warning(f\"Found `{alias}` in params. Will use it instead of argument\")\n"
     ]
    },
    {
     "name": "stdout",
     "output_type": "stream",
     "text": [
      "-------------------------\n",
      "--- Fold 4\n",
      "-------------------------\n",
      "[LightGBM] [Warning] Unknown parameter: learning\n"
     ]
    },
    {
     "name": "stderr",
     "output_type": "stream",
     "text": [
      "/usr/local/lib/python3.9/site-packages/lightgbm/engine.py:177: UserWarning: Found `num_iterations` in params. Will use it instead of argument\n",
      "  _log_warning(f\"Found `{alias}` in params. Will use it instead of argument\")\n"
     ]
    },
    {
     "name": "stdout",
     "output_type": "stream",
     "text": [
      "-------------------------\n",
      "--- Fold 5\n",
      "-------------------------\n",
      "[LightGBM] [Warning] Unknown parameter: learning\n"
     ]
    },
    {
     "name": "stderr",
     "output_type": "stream",
     "text": [
      "/usr/local/lib/python3.9/site-packages/lightgbm/engine.py:177: UserWarning: Found `num_iterations` in params. Will use it instead of argument\n",
      "  _log_warning(f\"Found `{alias}` in params. Will use it instead of argument\")\n"
     ]
    },
    {
     "name": "stdout",
     "output_type": "stream",
     "text": [
      "-------------------------\n",
      "--- Fold 1\n",
      "-------------------------\n",
      "[LightGBM] [Warning] Unknown parameter: learning\n"
     ]
    },
    {
     "name": "stderr",
     "output_type": "stream",
     "text": [
      "/usr/local/lib/python3.9/site-packages/lightgbm/engine.py:177: UserWarning: Found `num_iterations` in params. Will use it instead of argument\n",
      "  _log_warning(f\"Found `{alias}` in params. Will use it instead of argument\")\n"
     ]
    },
    {
     "name": "stdout",
     "output_type": "stream",
     "text": [
      "-------------------------\n",
      "--- Fold 2\n",
      "-------------------------\n",
      "[LightGBM] [Warning] Unknown parameter: learning\n"
     ]
    },
    {
     "name": "stderr",
     "output_type": "stream",
     "text": [
      "/usr/local/lib/python3.9/site-packages/lightgbm/engine.py:177: UserWarning: Found `num_iterations` in params. Will use it instead of argument\n",
      "  _log_warning(f\"Found `{alias}` in params. Will use it instead of argument\")\n"
     ]
    },
    {
     "name": "stdout",
     "output_type": "stream",
     "text": [
      "-------------------------\n",
      "--- Fold 3\n",
      "-------------------------\n",
      "[LightGBM] [Warning] Unknown parameter: learning\n"
     ]
    },
    {
     "name": "stderr",
     "output_type": "stream",
     "text": [
      "/usr/local/lib/python3.9/site-packages/lightgbm/engine.py:177: UserWarning: Found `num_iterations` in params. Will use it instead of argument\n",
      "  _log_warning(f\"Found `{alias}` in params. Will use it instead of argument\")\n"
     ]
    },
    {
     "name": "stdout",
     "output_type": "stream",
     "text": [
      "-------------------------\n",
      "--- Fold 4\n",
      "-------------------------\n",
      "[LightGBM] [Warning] Unknown parameter: learning\n"
     ]
    },
    {
     "name": "stderr",
     "output_type": "stream",
     "text": [
      "/usr/local/lib/python3.9/site-packages/lightgbm/engine.py:177: UserWarning: Found `num_iterations` in params. Will use it instead of argument\n",
      "  _log_warning(f\"Found `{alias}` in params. Will use it instead of argument\")\n"
     ]
    },
    {
     "name": "stdout",
     "output_type": "stream",
     "text": [
      "-------------------------\n",
      "--- Fold 5\n",
      "-------------------------\n",
      "[LightGBM] [Warning] Unknown parameter: learning\n"
     ]
    },
    {
     "name": "stderr",
     "output_type": "stream",
     "text": [
      "/usr/local/lib/python3.9/site-packages/lightgbm/engine.py:177: UserWarning: Found `num_iterations` in params. Will use it instead of argument\n",
      "  _log_warning(f\"Found `{alias}` in params. Will use it instead of argument\")\n"
     ]
    },
    {
     "name": "stdout",
     "output_type": "stream",
     "text": [
      "-------------------------\n",
      "--- Fold 1\n",
      "-------------------------\n",
      "[LightGBM] [Warning] Unknown parameter: learning\n"
     ]
    },
    {
     "name": "stderr",
     "output_type": "stream",
     "text": [
      "/usr/local/lib/python3.9/site-packages/lightgbm/engine.py:177: UserWarning: Found `num_iterations` in params. Will use it instead of argument\n",
      "  _log_warning(f\"Found `{alias}` in params. Will use it instead of argument\")\n"
     ]
    },
    {
     "name": "stdout",
     "output_type": "stream",
     "text": [
      "-------------------------\n",
      "--- Fold 2\n",
      "-------------------------\n",
      "[LightGBM] [Warning] Unknown parameter: learning\n"
     ]
    },
    {
     "name": "stderr",
     "output_type": "stream",
     "text": [
      "/usr/local/lib/python3.9/site-packages/lightgbm/engine.py:177: UserWarning: Found `num_iterations` in params. Will use it instead of argument\n",
      "  _log_warning(f\"Found `{alias}` in params. Will use it instead of argument\")\n"
     ]
    },
    {
     "name": "stdout",
     "output_type": "stream",
     "text": [
      "-------------------------\n",
      "--- Fold 3\n",
      "-------------------------\n",
      "[LightGBM] [Warning] Unknown parameter: learning\n"
     ]
    },
    {
     "name": "stderr",
     "output_type": "stream",
     "text": [
      "/usr/local/lib/python3.9/site-packages/lightgbm/engine.py:177: UserWarning: Found `num_iterations` in params. Will use it instead of argument\n",
      "  _log_warning(f\"Found `{alias}` in params. Will use it instead of argument\")\n"
     ]
    },
    {
     "name": "stdout",
     "output_type": "stream",
     "text": [
      "-------------------------\n",
      "--- Fold 4\n",
      "-------------------------\n",
      "[LightGBM] [Warning] Unknown parameter: learning\n"
     ]
    },
    {
     "name": "stderr",
     "output_type": "stream",
     "text": [
      "/usr/local/lib/python3.9/site-packages/lightgbm/engine.py:177: UserWarning: Found `num_iterations` in params. Will use it instead of argument\n",
      "  _log_warning(f\"Found `{alias}` in params. Will use it instead of argument\")\n"
     ]
    },
    {
     "name": "stdout",
     "output_type": "stream",
     "text": [
      "-------------------------\n",
      "--- Fold 5\n",
      "-------------------------\n",
      "[LightGBM] [Warning] Unknown parameter: learning\n"
     ]
    },
    {
     "name": "stderr",
     "output_type": "stream",
     "text": [
      "/usr/local/lib/python3.9/site-packages/lightgbm/engine.py:177: UserWarning: Found `num_iterations` in params. Will use it instead of argument\n",
      "  _log_warning(f\"Found `{alias}` in params. Will use it instead of argument\")\n"
     ]
    },
    {
     "name": "stdout",
     "output_type": "stream",
     "text": [
      "-------------------------\n",
      "--- Fold 1\n",
      "-------------------------\n",
      "[LightGBM] [Warning] Unknown parameter: learning\n",
      "-------------------------\n",
      "--- Fold 2\n",
      "-------------------------\n",
      "[LightGBM] [Warning] Unknown parameter: learning\n"
     ]
    },
    {
     "name": "stderr",
     "output_type": "stream",
     "text": [
      "/usr/local/lib/python3.9/site-packages/lightgbm/engine.py:177: UserWarning: Found `num_iterations` in params. Will use it instead of argument\n",
      "  _log_warning(f\"Found `{alias}` in params. Will use it instead of argument\")\n",
      "/usr/local/lib/python3.9/site-packages/lightgbm/engine.py:177: UserWarning: Found `num_iterations` in params. Will use it instead of argument\n",
      "  _log_warning(f\"Found `{alias}` in params. Will use it instead of argument\")\n"
     ]
    },
    {
     "name": "stdout",
     "output_type": "stream",
     "text": [
      "-------------------------\n",
      "--- Fold 3\n",
      "-------------------------\n",
      "[LightGBM] [Warning] Unknown parameter: learning\n",
      "-------------------------\n",
      "--- Fold 4\n",
      "-------------------------\n",
      "[LightGBM] [Warning] Unknown parameter: learning\n"
     ]
    },
    {
     "name": "stderr",
     "output_type": "stream",
     "text": [
      "/usr/local/lib/python3.9/site-packages/lightgbm/engine.py:177: UserWarning: Found `num_iterations` in params. Will use it instead of argument\n",
      "  _log_warning(f\"Found `{alias}` in params. Will use it instead of argument\")\n",
      "/usr/local/lib/python3.9/site-packages/lightgbm/engine.py:177: UserWarning: Found `num_iterations` in params. Will use it instead of argument\n",
      "  _log_warning(f\"Found `{alias}` in params. Will use it instead of argument\")\n"
     ]
    },
    {
     "name": "stdout",
     "output_type": "stream",
     "text": [
      "-------------------------\n",
      "--- Fold 5\n",
      "-------------------------\n",
      "[LightGBM] [Warning] Unknown parameter: learning\n",
      "-------------------------\n",
      "--- Fold 1\n",
      "-------------------------\n",
      "[LightGBM] [Warning] Unknown parameter: learning\n"
     ]
    },
    {
     "name": "stderr",
     "output_type": "stream",
     "text": [
      "/usr/local/lib/python3.9/site-packages/lightgbm/engine.py:177: UserWarning: Found `num_iterations` in params. Will use it instead of argument\n",
      "  _log_warning(f\"Found `{alias}` in params. Will use it instead of argument\")\n",
      "/usr/local/lib/python3.9/site-packages/lightgbm/engine.py:177: UserWarning: Found `num_iterations` in params. Will use it instead of argument\n",
      "  _log_warning(f\"Found `{alias}` in params. Will use it instead of argument\")\n"
     ]
    },
    {
     "name": "stdout",
     "output_type": "stream",
     "text": [
      "-------------------------\n",
      "--- Fold 2\n",
      "-------------------------\n",
      "[LightGBM] [Warning] Unknown parameter: learning\n"
     ]
    },
    {
     "name": "stderr",
     "output_type": "stream",
     "text": [
      "/usr/local/lib/python3.9/site-packages/lightgbm/engine.py:177: UserWarning: Found `num_iterations` in params. Will use it instead of argument\n",
      "  _log_warning(f\"Found `{alias}` in params. Will use it instead of argument\")\n"
     ]
    },
    {
     "name": "stdout",
     "output_type": "stream",
     "text": [
      "-------------------------\n",
      "--- Fold 3\n",
      "-------------------------\n",
      "[LightGBM] [Warning] Unknown parameter: learning\n"
     ]
    },
    {
     "name": "stderr",
     "output_type": "stream",
     "text": [
      "/usr/local/lib/python3.9/site-packages/lightgbm/engine.py:177: UserWarning: Found `num_iterations` in params. Will use it instead of argument\n",
      "  _log_warning(f\"Found `{alias}` in params. Will use it instead of argument\")\n"
     ]
    },
    {
     "name": "stdout",
     "output_type": "stream",
     "text": [
      "-------------------------\n",
      "--- Fold 4\n",
      "-------------------------\n",
      "[LightGBM] [Warning] Unknown parameter: learning\n"
     ]
    },
    {
     "name": "stderr",
     "output_type": "stream",
     "text": [
      "/usr/local/lib/python3.9/site-packages/lightgbm/engine.py:177: UserWarning: Found `num_iterations` in params. Will use it instead of argument\n",
      "  _log_warning(f\"Found `{alias}` in params. Will use it instead of argument\")\n"
     ]
    },
    {
     "name": "stdout",
     "output_type": "stream",
     "text": [
      "-------------------------\n",
      "--- Fold 5\n",
      "-------------------------\n",
      "[LightGBM] [Warning] Unknown parameter: learning\n"
     ]
    },
    {
     "name": "stderr",
     "output_type": "stream",
     "text": [
      "/usr/local/lib/python3.9/site-packages/lightgbm/engine.py:177: UserWarning: Found `num_iterations` in params. Will use it instead of argument\n",
      "  _log_warning(f\"Found `{alias}` in params. Will use it instead of argument\")\n"
     ]
    },
    {
     "name": "stdout",
     "output_type": "stream",
     "text": [
      "-------------------------\n",
      "--- Fold 1\n",
      "-------------------------\n",
      "[LightGBM] [Warning] Unknown parameter: learning\n"
     ]
    },
    {
     "name": "stderr",
     "output_type": "stream",
     "text": [
      "/usr/local/lib/python3.9/site-packages/lightgbm/engine.py:177: UserWarning: Found `num_iterations` in params. Will use it instead of argument\n",
      "  _log_warning(f\"Found `{alias}` in params. Will use it instead of argument\")\n"
     ]
    },
    {
     "name": "stdout",
     "output_type": "stream",
     "text": [
      "-------------------------\n",
      "--- Fold 2\n",
      "-------------------------\n",
      "[LightGBM] [Warning] Unknown parameter: learning\n"
     ]
    },
    {
     "name": "stderr",
     "output_type": "stream",
     "text": [
      "/usr/local/lib/python3.9/site-packages/lightgbm/engine.py:177: UserWarning: Found `num_iterations` in params. Will use it instead of argument\n",
      "  _log_warning(f\"Found `{alias}` in params. Will use it instead of argument\")\n"
     ]
    },
    {
     "name": "stdout",
     "output_type": "stream",
     "text": [
      "-------------------------\n",
      "--- Fold 3\n",
      "-------------------------\n",
      "[LightGBM] [Warning] Unknown parameter: learning\n"
     ]
    },
    {
     "name": "stderr",
     "output_type": "stream",
     "text": [
      "/usr/local/lib/python3.9/site-packages/lightgbm/engine.py:177: UserWarning: Found `num_iterations` in params. Will use it instead of argument\n",
      "  _log_warning(f\"Found `{alias}` in params. Will use it instead of argument\")\n"
     ]
    },
    {
     "name": "stdout",
     "output_type": "stream",
     "text": [
      "-------------------------\n",
      "--- Fold 4\n",
      "-------------------------\n",
      "[LightGBM] [Warning] Unknown parameter: learning\n"
     ]
    },
    {
     "name": "stderr",
     "output_type": "stream",
     "text": [
      "/usr/local/lib/python3.9/site-packages/lightgbm/engine.py:177: UserWarning: Found `num_iterations` in params. Will use it instead of argument\n",
      "  _log_warning(f\"Found `{alias}` in params. Will use it instead of argument\")\n"
     ]
    },
    {
     "name": "stdout",
     "output_type": "stream",
     "text": [
      "-------------------------\n",
      "--- Fold 5\n",
      "-------------------------\n",
      "[LightGBM] [Warning] Unknown parameter: learning\n"
     ]
    },
    {
     "name": "stderr",
     "output_type": "stream",
     "text": [
      "/usr/local/lib/python3.9/site-packages/lightgbm/engine.py:177: UserWarning: Found `num_iterations` in params. Will use it instead of argument\n",
      "  _log_warning(f\"Found `{alias}` in params. Will use it instead of argument\")\n"
     ]
    },
    {
     "name": "stdout",
     "output_type": "stream",
     "text": [
      "-------------------------\n",
      "--- Fold 1\n",
      "-------------------------\n",
      "[LightGBM] [Warning] Unknown parameter: learning\n"
     ]
    },
    {
     "name": "stderr",
     "output_type": "stream",
     "text": [
      "/usr/local/lib/python3.9/site-packages/lightgbm/engine.py:177: UserWarning: Found `num_iterations` in params. Will use it instead of argument\n",
      "  _log_warning(f\"Found `{alias}` in params. Will use it instead of argument\")\n"
     ]
    },
    {
     "name": "stdout",
     "output_type": "stream",
     "text": [
      "-------------------------\n",
      "--- Fold 2\n",
      "-------------------------\n",
      "[LightGBM] [Warning] Unknown parameter: learning\n"
     ]
    },
    {
     "name": "stderr",
     "output_type": "stream",
     "text": [
      "/usr/local/lib/python3.9/site-packages/lightgbm/engine.py:177: UserWarning: Found `num_iterations` in params. Will use it instead of argument\n",
      "  _log_warning(f\"Found `{alias}` in params. Will use it instead of argument\")\n"
     ]
    },
    {
     "name": "stdout",
     "output_type": "stream",
     "text": [
      "-------------------------\n",
      "--- Fold 3\n",
      "-------------------------\n",
      "[LightGBM] [Warning] Unknown parameter: learning\n"
     ]
    },
    {
     "name": "stderr",
     "output_type": "stream",
     "text": [
      "/usr/local/lib/python3.9/site-packages/lightgbm/engine.py:177: UserWarning: Found `num_iterations` in params. Will use it instead of argument\n",
      "  _log_warning(f\"Found `{alias}` in params. Will use it instead of argument\")\n"
     ]
    },
    {
     "name": "stdout",
     "output_type": "stream",
     "text": [
      "-------------------------\n",
      "--- Fold 4\n",
      "-------------------------\n",
      "[LightGBM] [Warning] Unknown parameter: learning\n"
     ]
    },
    {
     "name": "stderr",
     "output_type": "stream",
     "text": [
      "/usr/local/lib/python3.9/site-packages/lightgbm/engine.py:177: UserWarning: Found `num_iterations` in params. Will use it instead of argument\n",
      "  _log_warning(f\"Found `{alias}` in params. Will use it instead of argument\")\n"
     ]
    },
    {
     "name": "stdout",
     "output_type": "stream",
     "text": [
      "-------------------------\n",
      "--- Fold 5\n",
      "-------------------------\n",
      "[LightGBM] [Warning] Unknown parameter: learning\n"
     ]
    },
    {
     "name": "stderr",
     "output_type": "stream",
     "text": [
      "/usr/local/lib/python3.9/site-packages/lightgbm/engine.py:177: UserWarning: Found `num_iterations` in params. Will use it instead of argument\n",
      "  _log_warning(f\"Found `{alias}` in params. Will use it instead of argument\")\n"
     ]
    },
    {
     "name": "stdout",
     "output_type": "stream",
     "text": [
      "-------------------------\n",
      "--- Fold 1\n",
      "-------------------------\n",
      "[LightGBM] [Warning] Unknown parameter: learning\n"
     ]
    },
    {
     "name": "stderr",
     "output_type": "stream",
     "text": [
      "/usr/local/lib/python3.9/site-packages/lightgbm/engine.py:177: UserWarning: Found `num_iterations` in params. Will use it instead of argument\n",
      "  _log_warning(f\"Found `{alias}` in params. Will use it instead of argument\")\n"
     ]
    },
    {
     "name": "stdout",
     "output_type": "stream",
     "text": [
      "-------------------------\n",
      "--- Fold 2\n",
      "-------------------------\n",
      "[LightGBM] [Warning] Unknown parameter: learning\n"
     ]
    },
    {
     "name": "stderr",
     "output_type": "stream",
     "text": [
      "/usr/local/lib/python3.9/site-packages/lightgbm/engine.py:177: UserWarning: Found `num_iterations` in params. Will use it instead of argument\n",
      "  _log_warning(f\"Found `{alias}` in params. Will use it instead of argument\")\n"
     ]
    },
    {
     "name": "stdout",
     "output_type": "stream",
     "text": [
      "-------------------------\n",
      "--- Fold 3\n",
      "-------------------------\n",
      "[LightGBM] [Warning] Unknown parameter: learning\n"
     ]
    },
    {
     "name": "stderr",
     "output_type": "stream",
     "text": [
      "/usr/local/lib/python3.9/site-packages/lightgbm/engine.py:177: UserWarning: Found `num_iterations` in params. Will use it instead of argument\n",
      "  _log_warning(f\"Found `{alias}` in params. Will use it instead of argument\")\n"
     ]
    },
    {
     "name": "stdout",
     "output_type": "stream",
     "text": [
      "-------------------------\n",
      "--- Fold 4\n",
      "-------------------------\n",
      "[LightGBM] [Warning] Unknown parameter: learning\n"
     ]
    },
    {
     "name": "stderr",
     "output_type": "stream",
     "text": [
      "/usr/local/lib/python3.9/site-packages/lightgbm/engine.py:177: UserWarning: Found `num_iterations` in params. Will use it instead of argument\n",
      "  _log_warning(f\"Found `{alias}` in params. Will use it instead of argument\")\n"
     ]
    },
    {
     "name": "stdout",
     "output_type": "stream",
     "text": [
      "-------------------------\n",
      "--- Fold 5\n",
      "-------------------------\n",
      "[LightGBM] [Warning] Unknown parameter: learning\n"
     ]
    },
    {
     "name": "stderr",
     "output_type": "stream",
     "text": [
      "/usr/local/lib/python3.9/site-packages/lightgbm/engine.py:177: UserWarning: Found `num_iterations` in params. Will use it instead of argument\n",
      "  _log_warning(f\"Found `{alias}` in params. Will use it instead of argument\")\n"
     ]
    },
    {
     "name": "stdout",
     "output_type": "stream",
     "text": [
      "-------------------------\n",
      "--- Fold 1\n",
      "-------------------------\n",
      "[LightGBM] [Warning] Unknown parameter: learning\n"
     ]
    },
    {
     "name": "stderr",
     "output_type": "stream",
     "text": [
      "/usr/local/lib/python3.9/site-packages/lightgbm/engine.py:177: UserWarning: Found `num_iterations` in params. Will use it instead of argument\n",
      "  _log_warning(f\"Found `{alias}` in params. Will use it instead of argument\")\n"
     ]
    },
    {
     "name": "stdout",
     "output_type": "stream",
     "text": [
      "-------------------------\n",
      "--- Fold 2\n",
      "-------------------------\n",
      "[LightGBM] [Warning] Unknown parameter: learning\n"
     ]
    },
    {
     "name": "stderr",
     "output_type": "stream",
     "text": [
      "/usr/local/lib/python3.9/site-packages/lightgbm/engine.py:177: UserWarning: Found `num_iterations` in params. Will use it instead of argument\n",
      "  _log_warning(f\"Found `{alias}` in params. Will use it instead of argument\")\n"
     ]
    },
    {
     "name": "stdout",
     "output_type": "stream",
     "text": [
      "-------------------------\n",
      "--- Fold 3\n",
      "-------------------------\n",
      "[LightGBM] [Warning] Unknown parameter: learning\n"
     ]
    },
    {
     "name": "stderr",
     "output_type": "stream",
     "text": [
      "/usr/local/lib/python3.9/site-packages/lightgbm/engine.py:177: UserWarning: Found `num_iterations` in params. Will use it instead of argument\n",
      "  _log_warning(f\"Found `{alias}` in params. Will use it instead of argument\")\n"
     ]
    },
    {
     "name": "stdout",
     "output_type": "stream",
     "text": [
      "-------------------------\n",
      "--- Fold 4\n",
      "-------------------------\n",
      "[LightGBM] [Warning] Unknown parameter: learning\n"
     ]
    },
    {
     "name": "stderr",
     "output_type": "stream",
     "text": [
      "/usr/local/lib/python3.9/site-packages/lightgbm/engine.py:177: UserWarning: Found `num_iterations` in params. Will use it instead of argument\n",
      "  _log_warning(f\"Found `{alias}` in params. Will use it instead of argument\")\n"
     ]
    },
    {
     "name": "stdout",
     "output_type": "stream",
     "text": [
      "-------------------------\n",
      "--- Fold 5\n",
      "-------------------------\n",
      "[LightGBM] [Warning] Unknown parameter: learning\n"
     ]
    },
    {
     "name": "stderr",
     "output_type": "stream",
     "text": [
      "/usr/local/lib/python3.9/site-packages/lightgbm/engine.py:177: UserWarning: Found `num_iterations` in params. Will use it instead of argument\n",
      "  _log_warning(f\"Found `{alias}` in params. Will use it instead of argument\")\n"
     ]
    },
    {
     "name": "stdout",
     "output_type": "stream",
     "text": [
      "-------------------------\n",
      "--- Fold 1\n",
      "-------------------------\n",
      "[LightGBM] [Warning] Unknown parameter: learning\n"
     ]
    },
    {
     "name": "stderr",
     "output_type": "stream",
     "text": [
      "/usr/local/lib/python3.9/site-packages/lightgbm/engine.py:177: UserWarning: Found `num_iterations` in params. Will use it instead of argument\n",
      "  _log_warning(f\"Found `{alias}` in params. Will use it instead of argument\")\n"
     ]
    },
    {
     "name": "stdout",
     "output_type": "stream",
     "text": [
      "-------------------------\n",
      "--- Fold 2\n",
      "-------------------------\n",
      "[LightGBM] [Warning] Unknown parameter: learning\n"
     ]
    },
    {
     "name": "stderr",
     "output_type": "stream",
     "text": [
      "/usr/local/lib/python3.9/site-packages/lightgbm/engine.py:177: UserWarning: Found `num_iterations` in params. Will use it instead of argument\n",
      "  _log_warning(f\"Found `{alias}` in params. Will use it instead of argument\")\n"
     ]
    },
    {
     "name": "stdout",
     "output_type": "stream",
     "text": [
      "-------------------------\n",
      "--- Fold 3\n",
      "-------------------------\n",
      "[LightGBM] [Warning] Unknown parameter: learning\n"
     ]
    },
    {
     "name": "stderr",
     "output_type": "stream",
     "text": [
      "/usr/local/lib/python3.9/site-packages/lightgbm/engine.py:177: UserWarning: Found `num_iterations` in params. Will use it instead of argument\n",
      "  _log_warning(f\"Found `{alias}` in params. Will use it instead of argument\")\n"
     ]
    },
    {
     "name": "stdout",
     "output_type": "stream",
     "text": [
      "-------------------------\n",
      "--- Fold 4\n",
      "-------------------------\n",
      "[LightGBM] [Warning] Unknown parameter: learning\n"
     ]
    },
    {
     "name": "stderr",
     "output_type": "stream",
     "text": [
      "/usr/local/lib/python3.9/site-packages/lightgbm/engine.py:177: UserWarning: Found `num_iterations` in params. Will use it instead of argument\n",
      "  _log_warning(f\"Found `{alias}` in params. Will use it instead of argument\")\n"
     ]
    },
    {
     "name": "stdout",
     "output_type": "stream",
     "text": [
      "-------------------------\n",
      "--- Fold 5\n",
      "-------------------------\n",
      "[LightGBM] [Warning] Unknown parameter: learning\n"
     ]
    },
    {
     "name": "stderr",
     "output_type": "stream",
     "text": [
      "/usr/local/lib/python3.9/site-packages/lightgbm/engine.py:177: UserWarning: Found `num_iterations` in params. Will use it instead of argument\n",
      "  _log_warning(f\"Found `{alias}` in params. Will use it instead of argument\")\n"
     ]
    },
    {
     "name": "stdout",
     "output_type": "stream",
     "text": [
      "-------------------------\n",
      "--- Fold 1\n",
      "-------------------------\n",
      "[LightGBM] [Warning] Unknown parameter: learning\n"
     ]
    },
    {
     "name": "stderr",
     "output_type": "stream",
     "text": [
      "/usr/local/lib/python3.9/site-packages/lightgbm/engine.py:177: UserWarning: Found `num_iterations` in params. Will use it instead of argument\n",
      "  _log_warning(f\"Found `{alias}` in params. Will use it instead of argument\")\n"
     ]
    },
    {
     "name": "stdout",
     "output_type": "stream",
     "text": [
      "-------------------------\n",
      "--- Fold 2\n",
      "-------------------------\n",
      "[LightGBM] [Warning] Unknown parameter: learning\n"
     ]
    },
    {
     "name": "stderr",
     "output_type": "stream",
     "text": [
      "/usr/local/lib/python3.9/site-packages/lightgbm/engine.py:177: UserWarning: Found `num_iterations` in params. Will use it instead of argument\n",
      "  _log_warning(f\"Found `{alias}` in params. Will use it instead of argument\")\n"
     ]
    },
    {
     "name": "stdout",
     "output_type": "stream",
     "text": [
      "-------------------------\n",
      "--- Fold 3\n",
      "-------------------------\n",
      "[LightGBM] [Warning] Unknown parameter: learning\n"
     ]
    },
    {
     "name": "stderr",
     "output_type": "stream",
     "text": [
      "/usr/local/lib/python3.9/site-packages/lightgbm/engine.py:177: UserWarning: Found `num_iterations` in params. Will use it instead of argument\n",
      "  _log_warning(f\"Found `{alias}` in params. Will use it instead of argument\")\n"
     ]
    },
    {
     "name": "stdout",
     "output_type": "stream",
     "text": [
      "-------------------------\n",
      "--- Fold 4\n",
      "-------------------------\n",
      "[LightGBM] [Warning] Unknown parameter: learning\n"
     ]
    },
    {
     "name": "stderr",
     "output_type": "stream",
     "text": [
      "/usr/local/lib/python3.9/site-packages/lightgbm/engine.py:177: UserWarning: Found `num_iterations` in params. Will use it instead of argument\n",
      "  _log_warning(f\"Found `{alias}` in params. Will use it instead of argument\")\n"
     ]
    },
    {
     "name": "stdout",
     "output_type": "stream",
     "text": [
      "-------------------------\n",
      "--- Fold 5\n",
      "-------------------------\n",
      "[LightGBM] [Warning] Unknown parameter: learning\n"
     ]
    },
    {
     "name": "stderr",
     "output_type": "stream",
     "text": [
      "/usr/local/lib/python3.9/site-packages/lightgbm/engine.py:177: UserWarning: Found `num_iterations` in params. Will use it instead of argument\n",
      "  _log_warning(f\"Found `{alias}` in params. Will use it instead of argument\")\n"
     ]
    }
   ],
   "source": [
    "# Predict features\n",
    "oof_alpha_a = predict_feature(model, 'alpha_a', merge_df, oof_alpha_a, PRE_FEATURES)\n",
    "oof_gamma_a = predict_feature(model, 'gamma_a', merge_df, oof_gamma_a, PRE_FEATURES)\n",
    "oof_gamma_b = predict_feature(model, 'gamma_b', merge_df, oof_gamma_b, PRE_FEATURES)\n",
    "oof_gamma_e = predict_feature(model, 'gamma_e', merge_df, oof_gamma_e, PRE_FEATURES)\n",
    "oof_gamma_h = predict_feature(model, 'gamma_h', merge_df, oof_gamma_h, PRE_FEATURES)\n",
    "oof_unknown = predict_feature(model, 'is_unknown', merge_df, oof_unknown, PRE_FEATURES)\n",
    "oof_gamma_m = predict_feature(model, 'gamma_m', merge_df, oof_gamma_m, PRE_FEATURES)\n",
    "oof_gamma_n = predict_feature(model, 'gamma_n', merge_df, oof_gamma_n, PRE_FEATURES)\n",
    "oof_beta_c = predict_feature(model, 'beta_c', merge_df, oof_beta_c, PRE_FEATURES)\n",
    "oof_delta_b = predict_feature(model, 'delta_b', merge_df, oof_delta_b, PRE_FEATURES)\n",
    "oof_year_2020 = predict_feature(model, 'year_2020', merge_df, oof_year_2020, PRE_FEATURES)"
   ]
  },
  {
   "cell_type": "code",
   "execution_count": 1244,
   "metadata": {},
   "outputs": [
    {
     "data": {
      "text/plain": [
       "{'alpha_a': LGBMClassifier(learning=0.002, max_depth=6, metric='auc', num_iterations=1000,\n",
       "                objective='binary'),\n",
       " 'gamma_a': LGBMClassifier(learning=0.002, max_depth=6, metric='auc', num_iterations=1000,\n",
       "                objective='binary'),\n",
       " 'gamma_b': LGBMClassifier(learning=0.002, max_depth=6, metric='auc', num_iterations=1000,\n",
       "                objective='binary'),\n",
       " 'gamma_e': LGBMClassifier(learning=0.002, max_depth=6, metric='auc', num_iterations=1000,\n",
       "                objective='binary'),\n",
       " 'gamma_h': LGBMClassifier(learning=0.002, max_depth=6, metric='auc', num_iterations=1000,\n",
       "                objective='binary'),\n",
       " 'is_unknown': LGBMClassifier(learning=0.002, max_depth=6, metric='auc', num_iterations=1000,\n",
       "                objective='binary'),\n",
       " 'gamma_m': LGBMClassifier(learning=0.002, max_depth=6, metric='auc', num_iterations=1000,\n",
       "                objective='binary'),\n",
       " 'gamma_n': LGBMClassifier(learning=0.002, max_depth=6, metric='auc', num_iterations=1000,\n",
       "                objective='binary'),\n",
       " 'beta_c': LGBMClassifier(learning=0.002, max_depth=6, metric='auc', num_iterations=1000,\n",
       "                objective='binary'),\n",
       " 'delta_b': LGBMClassifier(learning=0.002, max_depth=6, metric='auc', num_iterations=1000,\n",
       "                objective='binary'),\n",
       " 'year_2020': LGBMClassifier(learning=0.002, max_depth=6, metric='auc', num_iterations=1000,\n",
       "                objective='binary')}"
      ]
     },
     "execution_count": 1244,
     "metadata": {},
     "output_type": "execute_result"
    }
   ],
   "source": [
    "model"
   ]
  },
  {
   "cell_type": "code",
   "execution_count": 1245,
   "metadata": {},
   "outputs": [],
   "source": [
    "# Actual label\n",
    "actual_alpha_a = oof_alpha_a.copy()\n",
    "actual_alpha_a['alpha_a'] = merge_df.alpha_a.values\n",
    "actual_gamma_a = oof_gamma_a.copy()\n",
    "actual_gamma_a['gamma_a'] = merge_df.gamma_a.values\n",
    "actual_gamma_b = oof_gamma_b.copy()\n",
    "actual_gamma_b['gamma_b'] = merge_df.gamma_b.values\n",
    "actual_gamma_e = oof_gamma_e.copy()\n",
    "actual_gamma_e['gamma_e'] = merge_df.gamma_e.values\n",
    "actual_gamma_h = oof_gamma_h.copy()\n",
    "actual_gamma_h['gamma_h'] = merge_df.gamma_h.values\n",
    "actual_unknown = oof_unknown.copy()\n",
    "actual_unknown['is_unknown'] = merge_df.is_unknown.values\n",
    "actual_gamma_m = oof_gamma_m.copy()\n",
    "actual_gamma_m['gamma_m'] = merge_df.gamma_m.values\n",
    "actual_gamma_n = oof_gamma_n.copy()\n",
    "actual_gamma_n['gamma_n'] = merge_df.gamma_n.values\n",
    "actual_beta_c = oof_beta_c.copy()\n",
    "actual_beta_c['beta_c'] = merge_df.beta_c.values\n",
    "actual_delta_b = oof_delta_b.copy()\n",
    "actual_delta_b['delta_b'] = merge_df.delta_b.values\n",
    "actual_year_2020 = oof_year_2020.copy()\n",
    "actual_year_2020['year_2020'] = merge_df.year_2020.values"
   ]
  },
  {
   "cell_type": "code",
   "execution_count": 1287,
   "metadata": {},
   "outputs": [],
   "source": [
    "from sklearn.metrics import f1_score\n",
    "def threshold_selected(output_data, actual):\n",
    "    scores = []; thresholds = []\n",
    "    best_score = 0; best_threshold = 0\n",
    "\n",
    "    for threshold in np.arange(0.2, 0.81, 0.01):\n",
    "        print(f'{threshold:.02f}, ', end='')\n",
    "        preds = (output_data.values.reshape((-1))>threshold).astype('int') \n",
    "        m = f1_score(actual.values.reshape((-1)).astype('int'), preds, average='macro') \n",
    "        scores.append(m) \n",
    "        thresholds.append(threshold)\n",
    "        if m>best_score:\n",
    "            best_score = m \n",
    "            best_threshold = threshold\n",
    "    return best_threshold, scores, thresholds, best_score"
   ]
  },
  {
   "cell_type": "code",
   "execution_count": 1288,
   "metadata": {},
   "outputs": [
    {
     "name": "stdout",
     "output_type": "stream",
     "text": [
      "0.20, 0.21, 0.22, 0.23, 0.24, 0.25, 0.26, 0.27, 0.28, 0.29, 0.30, 0.31, 0.32, 0.33, 0.34, 0.35, 0.36, 0.37, 0.38, 0.39, 0.40, 0.41, 0.42, 0.43, 0.44, 0.45, 0.46, 0.47, 0.48, 0.49, 0.50, 0.51, 0.52, 0.53, 0.54, 0.55, 0.56, 0.57, 0.58, 0.59, 0.60, 0.61, 0.62, 0.63, 0.64, 0.65, 0.66, 0.67, 0.68, 0.69, 0.70, 0.71, 0.72, 0.73, 0.74, 0.75, 0.76, 0.77, 0.78, 0.79, 0.80, 0.81, 0.20, 0.21, 0.22, 0.23, 0.24, 0.25, 0.26, 0.27, 0.28, 0.29, 0.30, 0.31, 0.32, 0.33, 0.34, 0.35, 0.36, 0.37, 0.38, 0.39, 0.40, 0.41, 0.42, 0.43, 0.44, 0.45, 0.46, 0.47, 0.48, 0.49, 0.50, 0.51, 0.52, 0.53, 0.54, 0.55, 0.56, 0.57, 0.58, 0.59, 0.60, 0.61, 0.62, 0.63, 0.64, 0.65, 0.66, 0.67, 0.68, 0.69, 0.70, 0.71, 0.72, 0.73, 0.74, 0.75, 0.76, 0.77, 0.78, 0.79, 0.80, 0.81, 0.20, 0.21, 0.22, 0.23, 0.24, 0.25, 0.26, 0.27, 0.28, 0.29, 0.30, 0.31, 0.32, 0.33, 0.34, 0.35, 0.36, 0.37, 0.38, 0.39, 0.40, 0.41, 0.42, 0.43, 0.44, 0.45, 0.46, 0.47, 0.48, 0.49, 0.50, 0.51, 0.52, 0.53, 0.54, 0.55, 0.56, 0.57, 0.58, 0.59, 0.60, 0.61, 0.62, 0.63, 0.64, 0.65, 0.66, 0.67, 0.68, 0.69, 0.70, 0.71, 0.72, 0.73, 0.74, 0.75, 0.76, 0.77, 0.78, 0.79, 0.80, 0.81, 0.20, 0.21, 0.22, 0.23, 0.24, 0.25, 0.26, 0.27, 0.28, 0.29, 0.30, 0.31, 0.32, 0.33, 0.34, 0.35, 0.36, 0.37, 0.38, 0.39, 0.40, 0.41, 0.42, 0.43, 0.44, 0.45, 0.46, 0.47, 0.48, 0.49, 0.50, 0.51, 0.52, 0.53, 0.54, 0.55, 0.56, 0.57, 0.58, 0.59, 0.60, 0.61, 0.62, 0.63, 0.64, 0.65, 0.66, 0.67, 0.68, 0.69, 0.70, 0.71, 0.72, 0.73, 0.74, 0.75, 0.76, 0.77, 0.78, 0.79, 0.80, 0.81, 0.20, 0.21, 0.22, 0.23, 0.24, 0.25, 0.26, 0.27, 0.28, 0.29, 0.30, 0.31, 0.32, 0.33, 0.34, 0.35, 0.36, 0.37, 0.38, 0.39, 0.40, 0.41, 0.42, 0.43, 0.44, 0.45, 0.46, 0.47, 0.48, 0.49, 0.50, 0.51, 0.52, 0.53, 0.54, 0.55, 0.56, 0.57, 0.58, 0.59, 0.60, 0.61, 0.62, 0.63, 0.64, 0.65, 0.66, 0.67, 0.68, 0.69, 0.70, 0.71, 0.72, 0.73, 0.74, 0.75, 0.76, 0.77, 0.78, 0.79, 0.80, 0.81, 0.20, 0.21, 0.22, 0.23, 0.24, 0.25, 0.26, 0.27, 0.28, 0.29, 0.30, 0.31, 0.32, 0.33, 0.34, 0.35, 0.36, 0.37, 0.38, 0.39, 0.40, 0.41, 0.42, 0.43, 0.44, 0.45, 0.46, 0.47, 0.48, 0.49, 0.50, 0.51, 0.52, 0.53, 0.54, 0.55, 0.56, 0.57, 0.58, 0.59, 0.60, 0.61, 0.62, 0.63, 0.64, 0.65, 0.66, 0.67, 0.68, 0.69, 0.70, 0.71, 0.72, 0.73, 0.74, 0.75, 0.76, 0.77, 0.78, 0.79, 0.80, 0.81, 0.20, 0.21, 0.22, 0.23, 0.24, 0.25, 0.26, 0.27, 0.28, 0.29, 0.30, 0.31, 0.32, 0.33, 0.34, 0.35, 0.36, 0.37, 0.38, 0.39, 0.40, 0.41, 0.42, 0.43, 0.44, 0.45, 0.46, 0.47, 0.48, 0.49, 0.50, 0.51, 0.52, 0.53, 0.54, 0.55, 0.56, 0.57, 0.58, 0.59, 0.60, 0.61, 0.62, 0.63, 0.64, 0.65, 0.66, 0.67, 0.68, 0.69, 0.70, 0.71, 0.72, 0.73, 0.74, 0.75, 0.76, 0.77, 0.78, 0.79, 0.80, 0.81, 0.20, 0.21, 0.22, 0.23, 0.24, 0.25, 0.26, 0.27, 0.28, 0.29, 0.30, 0.31, 0.32, 0.33, 0.34, 0.35, 0.36, 0.37, 0.38, 0.39, 0.40, 0.41, 0.42, 0.43, 0.44, 0.45, 0.46, 0.47, 0.48, 0.49, 0.50, 0.51, 0.52, 0.53, 0.54, 0.55, 0.56, 0.57, 0.58, 0.59, 0.60, 0.61, 0.62, 0.63, 0.64, 0.65, 0.66, 0.67, 0.68, 0.69, 0.70, 0.71, 0.72, 0.73, 0.74, 0.75, 0.76, 0.77, 0.78, 0.79, 0.80, 0.81, 0.20, 0.21, 0.22, 0.23, 0.24, 0.25, 0.26, 0.27, 0.28, 0.29, 0.30, 0.31, 0.32, 0.33, 0.34, 0.35, 0.36, 0.37, 0.38, 0.39, 0.40, 0.41, 0.42, 0.43, 0.44, 0.45, 0.46, 0.47, 0.48, 0.49, 0.50, 0.51, 0.52, 0.53, 0.54, 0.55, 0.56, 0.57, 0.58, 0.59, 0.60, 0.61, 0.62, 0.63, 0.64, 0.65, 0.66, 0.67, 0.68, 0.69, 0.70, 0.71, 0.72, 0.73, 0.74, 0.75, 0.76, 0.77, 0.78, 0.79, 0.80, 0.81, 0.20, 0.21, 0.22, 0.23, 0.24, 0.25, 0.26, 0.27, 0.28, 0.29, 0.30, 0.31, 0.32, 0.33, 0.34, 0.35, 0.36, 0.37, 0.38, 0.39, 0.40, 0.41, 0.42, 0.43, 0.44, 0.45, 0.46, 0.47, 0.48, 0.49, 0.50, 0.51, 0.52, 0.53, 0.54, 0.55, 0.56, 0.57, 0.58, 0.59, 0.60, 0.61, 0.62, 0.63, 0.64, 0.65, 0.66, 0.67, 0.68, 0.69, 0.70, 0.71, 0.72, 0.73, 0.74, 0.75, 0.76, 0.77, 0.78, 0.79, 0.80, 0.81, 0.20, 0.21, 0.22, 0.23, 0.24, 0.25, 0.26, 0.27, 0.28, 0.29, 0.30, 0.31, 0.32, 0.33, 0.34, 0.35, 0.36, 0.37, 0.38, 0.39, 0.40, 0.41, 0.42, 0.43, 0.44, 0.45, 0.46, 0.47, 0.48, 0.49, 0.50, 0.51, 0.52, 0.53, 0.54, 0.55, 0.56, 0.57, 0.58, 0.59, 0.60, 0.61, 0.62, 0.63, 0.64, 0.65, 0.66, 0.67, 0.68, 0.69, 0.70, 0.71, 0.72, 0.73, 0.74, 0.75, 0.76, 0.77, 0.78, 0.79, 0.80, 0.81, "
     ]
    }
   ],
   "source": [
    "# Selected threshold\n",
    "alpha_a_threshold, alpha_a_scores, alpha_a_all_thr, alpha_a_best_score = threshold_selected(oof_alpha_a['class_1'], actual_alpha_a['alpha_a'])\n",
    "gamma_a_threshold, gamma_a_scores, gamma_a_all_thr, gamma_a_best_score = threshold_selected(oof_gamma_a['class_1'], actual_gamma_a['gamma_a'])\n",
    "gamma_b_threshold, gamma_b_scores, gamma_b_all_thr, gamma_b_best_score = threshold_selected(oof_gamma_b['class_1'], actual_gamma_b['gamma_b'])\n",
    "gamma_e_threshold, gamma_e_scores, gamma_e_all_thr, gamma_e_best_score = threshold_selected(oof_gamma_e['class_1'], actual_gamma_e['gamma_e'])\n",
    "gamma_h_threshold, gamma_h_scores, gamma_h_all_thr, gamma_h_best_score = threshold_selected(oof_gamma_h['class_1'], actual_gamma_h['gamma_h'])\n",
    "unknown_threshold, unknown_scores, unknown_all_thr, unknown_best_score = threshold_selected(oof_unknown['class_1'], actual_unknown['is_unknown'])\n",
    "gamma_m_threshold, gamma_m_scores, gamma_m_all_thr, gamma_m_best_score = threshold_selected(oof_gamma_m['class_1'], actual_gamma_m['gamma_m'])\n",
    "gamma_n_threshold, gamma_n_scores, gamma_n_all_thr, gamma_n_best_score = threshold_selected(oof_gamma_n['class_1'], actual_gamma_n['gamma_n'])\n",
    "beta_c_threshold, beta_c_scores, beta_c_all_thr, beta_c_best_score = threshold_selected(oof_beta_c['class_1'], actual_beta_c['beta_c'])\n",
    "delta_b_threshold, delta_b_scores, delta_b_all_thr, delta_b_best_score = threshold_selected(oof_delta_b['class_1'], actual_delta_b['delta_b'])\n",
    "year_2020_threshold, year_2020_scores, year_2020_all_thr, year_2020_best_score = threshold_selected(oof_year_2020['class_1'], actual_year_2020['year_2020'])"
   ]
  },
  {
   "cell_type": "code",
   "execution_count": 1248,
   "metadata": {},
   "outputs": [
    {
     "data": {
      "text/plain": [
       "0.2"
      ]
     },
     "execution_count": 1248,
     "metadata": {},
     "output_type": "execute_result"
    }
   ],
   "source": [
    "unknown_threshold"
   ]
  },
  {
   "cell_type": "code",
   "execution_count": 1249,
   "metadata": {},
   "outputs": [],
   "source": [
    "def feature_flag(data, threshold):\n",
    "    return data.class_1.apply(lambda x: 1 if x >= threshold else 0)"
   ]
  },
  {
   "cell_type": "code",
   "execution_count": 1250,
   "metadata": {},
   "outputs": [],
   "source": [
    "# Predict alpha_a feature\n",
    "oof_alpha_a['alpha_a_flag'] = feature_flag(oof_alpha_a, alpha_a_threshold)\n",
    "oof_alpha_a = oof_alpha_a.reset_index()\n",
    "oof_gamma_a['gamma_a_flag'] = feature_flag(oof_gamma_a, gamma_a_threshold)\n",
    "oof_gamma_a = oof_gamma_a.reset_index()\n",
    "oof_gamma_b['gamma_b_flag'] = feature_flag(oof_gamma_b, gamma_b_threshold)\n",
    "oof_gamma_b = oof_gamma_b.reset_index()\n",
    "oof_gamma_e['gamma_e_flag'] = feature_flag(oof_gamma_e, gamma_e_threshold)\n",
    "oof_gamma_e = oof_gamma_e.reset_index()\n",
    "oof_gamma_h['gamma_h_flag'] = feature_flag(oof_gamma_h, gamma_h_threshold)\n",
    "oof_gamma_h = oof_gamma_h.reset_index()\n",
    "oof_unknown['unknown_flag'] = feature_flag(oof_unknown, unknown_threshold)\n",
    "oof_unknown = oof_unknown.reset_index()\n",
    "oof_gamma_m['gamma_m_flag'] = feature_flag(oof_gamma_m, gamma_m_threshold)\n",
    "oof_gamma_m = oof_gamma_m.reset_index()\n",
    "oof_gamma_n['gamma_n_flag'] = feature_flag(oof_gamma_n, gamma_n_threshold)\n",
    "oof_gamma_n = oof_gamma_n.reset_index()\n",
    "oof_beta_c['beta_c_flag'] = feature_flag(oof_beta_c, beta_c_threshold)\n",
    "oof_beta_c = oof_beta_c.reset_index()\n",
    "oof_delta_b['delta_b_flag'] = feature_flag(oof_delta_b, delta_b_threshold)\n",
    "oof_delta_b = oof_delta_b.reset_index()\n",
    "oof_year_2020['year_2020_flag'] = feature_flag(oof_year_2020, year_2020_threshold)\n",
    "oof_year_2020 = oof_year_2020.reset_index()\n",
    "\n"
   ]
  },
  {
   "cell_type": "code",
   "execution_count": 1251,
   "metadata": {},
   "outputs": [],
   "source": [
    "# concat_list = [merge_df, oof_alpha_a['alpha_a_flag'], oof_gamma_a['gamma_a_flag'], oof_gamma_b['gamma_b_flag']\n",
    "#                , oof_gamma_e['gamma_e_flag'], oof_gamma_h['gamma_h_flag'], oof_unknown['unknown_flag']]\n",
    "concat_list = [merge_df, oof_alpha_a['alpha_a_flag'], oof_gamma_a['gamma_a_flag'], oof_gamma_b['gamma_b_flag']\n",
    "               , oof_gamma_e['gamma_e_flag'], oof_gamma_h['gamma_h_flag'], oof_gamma_m['gamma_m_flag'], oof_gamma_n['gamma_n_flag'], oof_unknown['unknown_flag'] \n",
    "               , oof_beta_c['beta_c_flag'], oof_delta_b['delta_b_flag'], oof_year_2020['year_2020_flag']]\n",
    "# concat_list = [merge_df, oof_alpha_a['alpha_a_flag']]\n",
    "merge_df = pd.concat(concat_list, axis=1)\n",
    "# merge_df['gamma_flag'] = merge_df['gamma_a_flag'] + merge_df['gamma_b_flag'] + merge_df['gamma_e_flag'] + merge_df['gamma_h_flag']"
   ]
  },
  {
   "cell_type": "code",
   "execution_count": 1252,
   "metadata": {},
   "outputs": [
    {
     "data": {
      "text/html": [
       "<div>\n",
       "<style scoped>\n",
       "    .dataframe tbody tr th:only-of-type {\n",
       "        vertical-align: middle;\n",
       "    }\n",
       "\n",
       "    .dataframe tbody tr th {\n",
       "        vertical-align: top;\n",
       "    }\n",
       "\n",
       "    .dataframe thead th {\n",
       "        text-align: right;\n",
       "    }\n",
       "</style>\n",
       "<table border=\"1\" class=\"dataframe\">\n",
       "  <thead>\n",
       "    <tr style=\"text-align: right;\">\n",
       "      <th></th>\n",
       "      <th>id</th>\n",
       "      <th>ab</th>\n",
       "      <th>af</th>\n",
       "      <th>ah</th>\n",
       "      <th>am</th>\n",
       "      <th>ar</th>\n",
       "      <th>ax</th>\n",
       "      <th>ay</th>\n",
       "      <th>az</th>\n",
       "      <th>bc</th>\n",
       "      <th>bd</th>\n",
       "      <th>bn</th>\n",
       "      <th>bp</th>\n",
       "      <th>bq</th>\n",
       "      <th>br</th>\n",
       "      <th>bz</th>\n",
       "      <th>cb</th>\n",
       "      <th>cc</th>\n",
       "      <th>cd</th>\n",
       "      <th>cf</th>\n",
       "      <th>ch</th>\n",
       "      <th>cl</th>\n",
       "      <th>cr</th>\n",
       "      <th>cs</th>\n",
       "      <th>cu</th>\n",
       "      <th>cw</th>\n",
       "      <th>da</th>\n",
       "      <th>de</th>\n",
       "      <th>df</th>\n",
       "      <th>dh</th>\n",
       "      <th>di</th>\n",
       "      <th>dl</th>\n",
       "      <th>dn</th>\n",
       "      <th>du</th>\n",
       "      <th>dv</th>\n",
       "      <th>dy</th>\n",
       "      <th>eb</th>\n",
       "      <th>ee</th>\n",
       "      <th>eg</th>\n",
       "      <th>eh</th>\n",
       "      <th>ej</th>\n",
       "      <th>el</th>\n",
       "      <th>ep</th>\n",
       "      <th>eu</th>\n",
       "      <th>fc</th>\n",
       "      <th>fd</th>\n",
       "      <th>fe</th>\n",
       "      <th>fi</th>\n",
       "      <th>fl</th>\n",
       "      <th>fr</th>\n",
       "      <th>fs</th>\n",
       "      <th>gb</th>\n",
       "      <th>ge</th>\n",
       "      <th>gf</th>\n",
       "      <th>gh</th>\n",
       "      <th>gi</th>\n",
       "      <th>gl</th>\n",
       "      <th>class</th>\n",
       "      <th>alpha</th>\n",
       "      <th>beta</th>\n",
       "      <th>gamma</th>\n",
       "      <th>delta</th>\n",
       "      <th>epsilon</th>\n",
       "      <th>year</th>\n",
       "      <th>is_unknown</th>\n",
       "      <th>alpha_a</th>\n",
       "      <th>alpha_b</th>\n",
       "      <th>alpha_d</th>\n",
       "      <th>alpha_g</th>\n",
       "      <th>gamma_a</th>\n",
       "      <th>gamma_b</th>\n",
       "      <th>gamma_e</th>\n",
       "      <th>gamma_h</th>\n",
       "      <th>gamma_m</th>\n",
       "      <th>gamma_n</th>\n",
       "      <th>beta_c</th>\n",
       "      <th>delta_b</th>\n",
       "      <th>year_2020</th>\n",
       "      <th>alpha_a_flag</th>\n",
       "      <th>gamma_a_flag</th>\n",
       "      <th>gamma_b_flag</th>\n",
       "      <th>gamma_e_flag</th>\n",
       "      <th>gamma_h_flag</th>\n",
       "      <th>gamma_m_flag</th>\n",
       "      <th>gamma_n_flag</th>\n",
       "      <th>unknown_flag</th>\n",
       "      <th>beta_c_flag</th>\n",
       "      <th>delta_b_flag</th>\n",
       "      <th>year_2020_flag</th>\n",
       "    </tr>\n",
       "  </thead>\n",
       "  <tbody>\n",
       "    <tr>\n",
       "      <th>0</th>\n",
       "      <td>000ff2bfdfe9</td>\n",
       "      <td>0.209377</td>\n",
       "      <td>3109.03329</td>\n",
       "      <td>85.200147</td>\n",
       "      <td>22.394407</td>\n",
       "      <td>8.138688</td>\n",
       "      <td>0.699861</td>\n",
       "      <td>0.025578</td>\n",
       "      <td>9.812214</td>\n",
       "      <td>5.555634</td>\n",
       "      <td>4126.58731</td>\n",
       "      <td>22.5984</td>\n",
       "      <td>175.638726</td>\n",
       "      <td>152.707705</td>\n",
       "      <td>823.928241</td>\n",
       "      <td>257.432377</td>\n",
       "      <td>47.223358</td>\n",
       "      <td>0.563481</td>\n",
       "      <td>23.387600</td>\n",
       "      <td>4.851915</td>\n",
       "      <td>0.023482</td>\n",
       "      <td>1.050225</td>\n",
       "      <td>0.069225</td>\n",
       "      <td>13.784111</td>\n",
       "      <td>1.302012</td>\n",
       "      <td>36.205956</td>\n",
       "      <td>69.08340</td>\n",
       "      <td>295.570575</td>\n",
       "      <td>0.23868</td>\n",
       "      <td>0.284232</td>\n",
       "      <td>89.245560</td>\n",
       "      <td>84.31664</td>\n",
       "      <td>29.657104</td>\n",
       "      <td>5.310690</td>\n",
       "      <td>1.74307</td>\n",
       "      <td>23.187704</td>\n",
       "      <td>7.294176</td>\n",
       "      <td>1.987283</td>\n",
       "      <td>1433.166750</td>\n",
       "      <td>0.949104</td>\n",
       "      <td>B</td>\n",
       "      <td>30.879420</td>\n",
       "      <td>78.526968</td>\n",
       "      <td>3.828384</td>\n",
       "      <td>13.394640</td>\n",
       "      <td>10.265073</td>\n",
       "      <td>9028.291921</td>\n",
       "      <td>3.583450</td>\n",
       "      <td>7.298162</td>\n",
       "      <td>1.73855</td>\n",
       "      <td>0.094822</td>\n",
       "      <td>11.339138</td>\n",
       "      <td>72.611063</td>\n",
       "      <td>2003.810319</td>\n",
       "      <td>22.136229</td>\n",
       "      <td>69.834944</td>\n",
       "      <td>0.120343</td>\n",
       "      <td>1</td>\n",
       "      <td>B</td>\n",
       "      <td>C</td>\n",
       "      <td>G</td>\n",
       "      <td>D</td>\n",
       "      <td>3/19/2019</td>\n",
       "      <td>2019</td>\n",
       "      <td>False</td>\n",
       "      <td>False</td>\n",
       "      <td>True</td>\n",
       "      <td>False</td>\n",
       "      <td>False</td>\n",
       "      <td>False</td>\n",
       "      <td>False</td>\n",
       "      <td>False</td>\n",
       "      <td>False</td>\n",
       "      <td>False</td>\n",
       "      <td>False</td>\n",
       "      <td>True</td>\n",
       "      <td>False</td>\n",
       "      <td>False</td>\n",
       "      <td>0</td>\n",
       "      <td>0</td>\n",
       "      <td>0</td>\n",
       "      <td>0</td>\n",
       "      <td>1</td>\n",
       "      <td>0</td>\n",
       "      <td>0</td>\n",
       "      <td>0</td>\n",
       "      <td>1</td>\n",
       "      <td>0</td>\n",
       "      <td>0</td>\n",
       "    </tr>\n",
       "    <tr>\n",
       "      <th>1</th>\n",
       "      <td>007255e47698</td>\n",
       "      <td>0.145282</td>\n",
       "      <td>978.76416</td>\n",
       "      <td>85.200147</td>\n",
       "      <td>36.968889</td>\n",
       "      <td>8.138688</td>\n",
       "      <td>3.632190</td>\n",
       "      <td>0.025578</td>\n",
       "      <td>13.517790</td>\n",
       "      <td>1.229900</td>\n",
       "      <td>5496.92824</td>\n",
       "      <td>19.4205</td>\n",
       "      <td>155.868030</td>\n",
       "      <td>14.754720</td>\n",
       "      <td>51.216883</td>\n",
       "      <td>257.432377</td>\n",
       "      <td>30.284345</td>\n",
       "      <td>0.484710</td>\n",
       "      <td>50.628208</td>\n",
       "      <td>6.085041</td>\n",
       "      <td>0.031442</td>\n",
       "      <td>1.113875</td>\n",
       "      <td>1.117800</td>\n",
       "      <td>28.310953</td>\n",
       "      <td>1.357182</td>\n",
       "      <td>37.476568</td>\n",
       "      <td>70.79836</td>\n",
       "      <td>178.553100</td>\n",
       "      <td>0.23868</td>\n",
       "      <td>0.363489</td>\n",
       "      <td>110.581815</td>\n",
       "      <td>75.74548</td>\n",
       "      <td>37.532000</td>\n",
       "      <td>0.005518</td>\n",
       "      <td>1.74307</td>\n",
       "      <td>17.222328</td>\n",
       "      <td>4.926396</td>\n",
       "      <td>0.858603</td>\n",
       "      <td>1111.287150</td>\n",
       "      <td>0.003042</td>\n",
       "      <td>A</td>\n",
       "      <td>109.125159</td>\n",
       "      <td>95.415086</td>\n",
       "      <td>52.260480</td>\n",
       "      <td>17.175984</td>\n",
       "      <td>0.296850</td>\n",
       "      <td>6785.003474</td>\n",
       "      <td>10.358927</td>\n",
       "      <td>0.173229</td>\n",
       "      <td>0.49706</td>\n",
       "      <td>0.568932</td>\n",
       "      <td>9.292698</td>\n",
       "      <td>72.611063</td>\n",
       "      <td>27981.562750</td>\n",
       "      <td>29.135430</td>\n",
       "      <td>32.131996</td>\n",
       "      <td>21.978000</td>\n",
       "      <td>0</td>\n",
       "      <td>A</td>\n",
       "      <td>C</td>\n",
       "      <td>M</td>\n",
       "      <td>B</td>\n",
       "      <td>Unknown</td>\n",
       "      <td>9999</td>\n",
       "      <td>True</td>\n",
       "      <td>True</td>\n",
       "      <td>False</td>\n",
       "      <td>False</td>\n",
       "      <td>False</td>\n",
       "      <td>False</td>\n",
       "      <td>False</td>\n",
       "      <td>False</td>\n",
       "      <td>False</td>\n",
       "      <td>True</td>\n",
       "      <td>False</td>\n",
       "      <td>True</td>\n",
       "      <td>True</td>\n",
       "      <td>False</td>\n",
       "      <td>1</td>\n",
       "      <td>0</td>\n",
       "      <td>0</td>\n",
       "      <td>0</td>\n",
       "      <td>0</td>\n",
       "      <td>1</td>\n",
       "      <td>0</td>\n",
       "      <td>0</td>\n",
       "      <td>1</td>\n",
       "      <td>1</td>\n",
       "      <td>0</td>\n",
       "    </tr>\n",
       "    <tr>\n",
       "      <th>2</th>\n",
       "      <td>013f2bd269f5</td>\n",
       "      <td>0.470030</td>\n",
       "      <td>2635.10654</td>\n",
       "      <td>85.200147</td>\n",
       "      <td>32.360553</td>\n",
       "      <td>8.138688</td>\n",
       "      <td>6.732840</td>\n",
       "      <td>0.025578</td>\n",
       "      <td>12.824570</td>\n",
       "      <td>1.229900</td>\n",
       "      <td>5135.78024</td>\n",
       "      <td>26.4825</td>\n",
       "      <td>128.988531</td>\n",
       "      <td>219.320160</td>\n",
       "      <td>482.141594</td>\n",
       "      <td>257.432377</td>\n",
       "      <td>32.563713</td>\n",
       "      <td>0.495852</td>\n",
       "      <td>85.955376</td>\n",
       "      <td>5.376488</td>\n",
       "      <td>0.036218</td>\n",
       "      <td>1.050225</td>\n",
       "      <td>0.700350</td>\n",
       "      <td>39.364743</td>\n",
       "      <td>1.009611</td>\n",
       "      <td>21.459644</td>\n",
       "      <td>70.81970</td>\n",
       "      <td>321.426625</td>\n",
       "      <td>0.23868</td>\n",
       "      <td>0.210441</td>\n",
       "      <td>120.056438</td>\n",
       "      <td>65.46984</td>\n",
       "      <td>28.053464</td>\n",
       "      <td>1.289739</td>\n",
       "      <td>1.74307</td>\n",
       "      <td>36.861352</td>\n",
       "      <td>7.813674</td>\n",
       "      <td>8.146651</td>\n",
       "      <td>1494.076488</td>\n",
       "      <td>0.377208</td>\n",
       "      <td>B</td>\n",
       "      <td>109.125159</td>\n",
       "      <td>78.526968</td>\n",
       "      <td>5.390628</td>\n",
       "      <td>224.207424</td>\n",
       "      <td>8.745201</td>\n",
       "      <td>8338.906181</td>\n",
       "      <td>11.626917</td>\n",
       "      <td>7.709560</td>\n",
       "      <td>0.97556</td>\n",
       "      <td>1.198821</td>\n",
       "      <td>37.077772</td>\n",
       "      <td>88.609437</td>\n",
       "      <td>13676.957810</td>\n",
       "      <td>28.022851</td>\n",
       "      <td>35.192676</td>\n",
       "      <td>0.196941</td>\n",
       "      <td>0</td>\n",
       "      <td>A</td>\n",
       "      <td>C</td>\n",
       "      <td>M</td>\n",
       "      <td>B</td>\n",
       "      <td>Unknown</td>\n",
       "      <td>9999</td>\n",
       "      <td>True</td>\n",
       "      <td>True</td>\n",
       "      <td>False</td>\n",
       "      <td>False</td>\n",
       "      <td>False</td>\n",
       "      <td>False</td>\n",
       "      <td>False</td>\n",
       "      <td>False</td>\n",
       "      <td>False</td>\n",
       "      <td>True</td>\n",
       "      <td>False</td>\n",
       "      <td>True</td>\n",
       "      <td>True</td>\n",
       "      <td>False</td>\n",
       "      <td>1</td>\n",
       "      <td>0</td>\n",
       "      <td>0</td>\n",
       "      <td>0</td>\n",
       "      <td>0</td>\n",
       "      <td>1</td>\n",
       "      <td>0</td>\n",
       "      <td>0</td>\n",
       "      <td>1</td>\n",
       "      <td>1</td>\n",
       "      <td>0</td>\n",
       "    </tr>\n",
       "    <tr>\n",
       "      <th>3</th>\n",
       "      <td>043ac50845d5</td>\n",
       "      <td>0.252107</td>\n",
       "      <td>3819.65177</td>\n",
       "      <td>120.201618</td>\n",
       "      <td>77.112203</td>\n",
       "      <td>8.138688</td>\n",
       "      <td>3.685344</td>\n",
       "      <td>0.025578</td>\n",
       "      <td>11.053708</td>\n",
       "      <td>1.229900</td>\n",
       "      <td>4169.67738</td>\n",
       "      <td>23.6577</td>\n",
       "      <td>237.282264</td>\n",
       "      <td>11.050410</td>\n",
       "      <td>661.518640</td>\n",
       "      <td>257.432377</td>\n",
       "      <td>15.201914</td>\n",
       "      <td>0.717882</td>\n",
       "      <td>88.159360</td>\n",
       "      <td>2.347652</td>\n",
       "      <td>0.029054</td>\n",
       "      <td>1.400300</td>\n",
       "      <td>0.636075</td>\n",
       "      <td>41.116960</td>\n",
       "      <td>0.722727</td>\n",
       "      <td>21.530392</td>\n",
       "      <td>47.27586</td>\n",
       "      <td>196.607985</td>\n",
       "      <td>0.23868</td>\n",
       "      <td>0.292431</td>\n",
       "      <td>139.824570</td>\n",
       "      <td>71.57120</td>\n",
       "      <td>24.354856</td>\n",
       "      <td>2.655345</td>\n",
       "      <td>1.74307</td>\n",
       "      <td>52.003884</td>\n",
       "      <td>7.386060</td>\n",
       "      <td>3.813326</td>\n",
       "      <td>15691.552180</td>\n",
       "      <td>0.614484</td>\n",
       "      <td>B</td>\n",
       "      <td>31.674357</td>\n",
       "      <td>78.526968</td>\n",
       "      <td>31.323372</td>\n",
       "      <td>59.301984</td>\n",
       "      <td>7.884336</td>\n",
       "      <td>10965.766040</td>\n",
       "      <td>14.852022</td>\n",
       "      <td>6.122162</td>\n",
       "      <td>0.49706</td>\n",
       "      <td>0.284466</td>\n",
       "      <td>18.529584</td>\n",
       "      <td>82.416803</td>\n",
       "      <td>2094.262452</td>\n",
       "      <td>39.948656</td>\n",
       "      <td>90.493248</td>\n",
       "      <td>0.155829</td>\n",
       "      <td>0</td>\n",
       "      <td>A</td>\n",
       "      <td>C</td>\n",
       "      <td>M</td>\n",
       "      <td>B</td>\n",
       "      <td>Unknown</td>\n",
       "      <td>9999</td>\n",
       "      <td>True</td>\n",
       "      <td>True</td>\n",
       "      <td>False</td>\n",
       "      <td>False</td>\n",
       "      <td>False</td>\n",
       "      <td>False</td>\n",
       "      <td>False</td>\n",
       "      <td>False</td>\n",
       "      <td>False</td>\n",
       "      <td>True</td>\n",
       "      <td>False</td>\n",
       "      <td>True</td>\n",
       "      <td>True</td>\n",
       "      <td>False</td>\n",
       "      <td>1</td>\n",
       "      <td>0</td>\n",
       "      <td>0</td>\n",
       "      <td>0</td>\n",
       "      <td>0</td>\n",
       "      <td>0</td>\n",
       "      <td>0</td>\n",
       "      <td>0</td>\n",
       "      <td>1</td>\n",
       "      <td>1</td>\n",
       "      <td>0</td>\n",
       "    </tr>\n",
       "    <tr>\n",
       "      <th>4</th>\n",
       "      <td>044fb8a146ec</td>\n",
       "      <td>0.380297</td>\n",
       "      <td>3733.04844</td>\n",
       "      <td>85.200147</td>\n",
       "      <td>14.103738</td>\n",
       "      <td>8.138688</td>\n",
       "      <td>3.942255</td>\n",
       "      <td>0.054810</td>\n",
       "      <td>3.396778</td>\n",
       "      <td>102.151980</td>\n",
       "      <td>5728.73412</td>\n",
       "      <td>24.0108</td>\n",
       "      <td>324.546318</td>\n",
       "      <td>149.717165</td>\n",
       "      <td>6074.859475</td>\n",
       "      <td>257.432377</td>\n",
       "      <td>82.213495</td>\n",
       "      <td>0.536467</td>\n",
       "      <td>72.644264</td>\n",
       "      <td>30.537722</td>\n",
       "      <td>0.025472</td>\n",
       "      <td>1.050225</td>\n",
       "      <td>0.693150</td>\n",
       "      <td>31.724726</td>\n",
       "      <td>0.827550</td>\n",
       "      <td>34.415360</td>\n",
       "      <td>74.06532</td>\n",
       "      <td>200.178160</td>\n",
       "      <td>0.23868</td>\n",
       "      <td>0.207708</td>\n",
       "      <td>97.920120</td>\n",
       "      <td>52.83888</td>\n",
       "      <td>26.019912</td>\n",
       "      <td>1.144902</td>\n",
       "      <td>1.74307</td>\n",
       "      <td>9.064856</td>\n",
       "      <td>7.350720</td>\n",
       "      <td>3.490846</td>\n",
       "      <td>1403.656300</td>\n",
       "      <td>0.164268</td>\n",
       "      <td>B</td>\n",
       "      <td>109.125159</td>\n",
       "      <td>91.994825</td>\n",
       "      <td>51.141336</td>\n",
       "      <td>29.102640</td>\n",
       "      <td>4.274640</td>\n",
       "      <td>16198.049590</td>\n",
       "      <td>13.666727</td>\n",
       "      <td>8.153058</td>\n",
       "      <td>48.50134</td>\n",
       "      <td>0.121914</td>\n",
       "      <td>16.408728</td>\n",
       "      <td>146.109943</td>\n",
       "      <td>8524.370502</td>\n",
       "      <td>45.381316</td>\n",
       "      <td>36.262628</td>\n",
       "      <td>0.096614</td>\n",
       "      <td>1</td>\n",
       "      <td>D</td>\n",
       "      <td>B</td>\n",
       "      <td>F</td>\n",
       "      <td>B</td>\n",
       "      <td>3/25/2020</td>\n",
       "      <td>2020</td>\n",
       "      <td>False</td>\n",
       "      <td>False</td>\n",
       "      <td>False</td>\n",
       "      <td>True</td>\n",
       "      <td>False</td>\n",
       "      <td>False</td>\n",
       "      <td>False</td>\n",
       "      <td>False</td>\n",
       "      <td>False</td>\n",
       "      <td>False</td>\n",
       "      <td>False</td>\n",
       "      <td>False</td>\n",
       "      <td>True</td>\n",
       "      <td>True</td>\n",
       "      <td>1</td>\n",
       "      <td>0</td>\n",
       "      <td>0</td>\n",
       "      <td>0</td>\n",
       "      <td>0</td>\n",
       "      <td>0</td>\n",
       "      <td>0</td>\n",
       "      <td>0</td>\n",
       "      <td>0</td>\n",
       "      <td>1</td>\n",
       "      <td>1</td>\n",
       "    </tr>\n",
       "  </tbody>\n",
       "</table>\n",
       "</div>"
      ],
      "text/plain": [
       "             id        ab          af          ah         am        ar   \n",
       "0  000ff2bfdfe9  0.209377  3109.03329   85.200147  22.394407  8.138688  \\\n",
       "1  007255e47698  0.145282   978.76416   85.200147  36.968889  8.138688   \n",
       "2  013f2bd269f5  0.470030  2635.10654   85.200147  32.360553  8.138688   \n",
       "3  043ac50845d5  0.252107  3819.65177  120.201618  77.112203  8.138688   \n",
       "4  044fb8a146ec  0.380297  3733.04844   85.200147  14.103738  8.138688   \n",
       "\n",
       "         ax        ay         az          bc          bd       bn          bp   \n",
       "0  0.699861  0.025578   9.812214    5.555634  4126.58731  22.5984  175.638726  \\\n",
       "1  3.632190  0.025578  13.517790    1.229900  5496.92824  19.4205  155.868030   \n",
       "2  6.732840  0.025578  12.824570    1.229900  5135.78024  26.4825  128.988531   \n",
       "3  3.685344  0.025578  11.053708    1.229900  4169.67738  23.6577  237.282264   \n",
       "4  3.942255  0.054810   3.396778  102.151980  5728.73412  24.0108  324.546318   \n",
       "\n",
       "           bq           br          bz         cb        cc         cd   \n",
       "0  152.707705   823.928241  257.432377  47.223358  0.563481  23.387600  \\\n",
       "1   14.754720    51.216883  257.432377  30.284345  0.484710  50.628208   \n",
       "2  219.320160   482.141594  257.432377  32.563713  0.495852  85.955376   \n",
       "3   11.050410   661.518640  257.432377  15.201914  0.717882  88.159360   \n",
       "4  149.717165  6074.859475  257.432377  82.213495  0.536467  72.644264   \n",
       "\n",
       "          cf        ch        cl        cr         cs        cu         cw   \n",
       "0   4.851915  0.023482  1.050225  0.069225  13.784111  1.302012  36.205956  \\\n",
       "1   6.085041  0.031442  1.113875  1.117800  28.310953  1.357182  37.476568   \n",
       "2   5.376488  0.036218  1.050225  0.700350  39.364743  1.009611  21.459644   \n",
       "3   2.347652  0.029054  1.400300  0.636075  41.116960  0.722727  21.530392   \n",
       "4  30.537722  0.025472  1.050225  0.693150  31.724726  0.827550  34.415360   \n",
       "\n",
       "         da          de       df        dh          di        dl         dn   \n",
       "0  69.08340  295.570575  0.23868  0.284232   89.245560  84.31664  29.657104  \\\n",
       "1  70.79836  178.553100  0.23868  0.363489  110.581815  75.74548  37.532000   \n",
       "2  70.81970  321.426625  0.23868  0.210441  120.056438  65.46984  28.053464   \n",
       "3  47.27586  196.607985  0.23868  0.292431  139.824570  71.57120  24.354856   \n",
       "4  74.06532  200.178160  0.23868  0.207708   97.920120  52.83888  26.019912   \n",
       "\n",
       "         du       dv         dy        eb        ee            eg        eh   \n",
       "0  5.310690  1.74307  23.187704  7.294176  1.987283   1433.166750  0.949104  \\\n",
       "1  0.005518  1.74307  17.222328  4.926396  0.858603   1111.287150  0.003042   \n",
       "2  1.289739  1.74307  36.861352  7.813674  8.146651   1494.076488  0.377208   \n",
       "3  2.655345  1.74307  52.003884  7.386060  3.813326  15691.552180  0.614484   \n",
       "4  1.144902  1.74307   9.064856  7.350720  3.490846   1403.656300  0.164268   \n",
       "\n",
       "  ej          el         ep         eu          fc         fd            fe   \n",
       "0  B   30.879420  78.526968   3.828384   13.394640  10.265073   9028.291921  \\\n",
       "1  A  109.125159  95.415086  52.260480   17.175984   0.296850   6785.003474   \n",
       "2  B  109.125159  78.526968   5.390628  224.207424   8.745201   8338.906181   \n",
       "3  B   31.674357  78.526968  31.323372   59.301984   7.884336  10965.766040   \n",
       "4  B  109.125159  91.994825  51.141336   29.102640   4.274640  16198.049590   \n",
       "\n",
       "          fi        fl        fr        fs         gb          ge   \n",
       "0   3.583450  7.298162   1.73855  0.094822  11.339138   72.611063  \\\n",
       "1  10.358927  0.173229   0.49706  0.568932   9.292698   72.611063   \n",
       "2  11.626917  7.709560   0.97556  1.198821  37.077772   88.609437   \n",
       "3  14.852022  6.122162   0.49706  0.284466  18.529584   82.416803   \n",
       "4  13.666727  8.153058  48.50134  0.121914  16.408728  146.109943   \n",
       "\n",
       "             gf         gh         gi         gl  class alpha beta gamma   \n",
       "0   2003.810319  22.136229  69.834944   0.120343      1     B    C     G  \\\n",
       "1  27981.562750  29.135430  32.131996  21.978000      0     A    C     M   \n",
       "2  13676.957810  28.022851  35.192676   0.196941      0     A    C     M   \n",
       "3   2094.262452  39.948656  90.493248   0.155829      0     A    C     M   \n",
       "4   8524.370502  45.381316  36.262628   0.096614      1     D    B     F   \n",
       "\n",
       "  delta    epsilon  year  is_unknown  alpha_a  alpha_b  alpha_d  alpha_g   \n",
       "0     D  3/19/2019  2019       False    False     True    False    False  \\\n",
       "1     B    Unknown  9999        True     True    False    False    False   \n",
       "2     B    Unknown  9999        True     True    False    False    False   \n",
       "3     B    Unknown  9999        True     True    False    False    False   \n",
       "4     B  3/25/2020  2020       False    False    False     True    False   \n",
       "\n",
       "   gamma_a  gamma_b  gamma_e  gamma_h  gamma_m  gamma_n  beta_c  delta_b   \n",
       "0    False    False    False    False    False    False    True    False  \\\n",
       "1    False    False    False    False     True    False    True     True   \n",
       "2    False    False    False    False     True    False    True     True   \n",
       "3    False    False    False    False     True    False    True     True   \n",
       "4    False    False    False    False    False    False   False     True   \n",
       "\n",
       "   year_2020  alpha_a_flag  gamma_a_flag  gamma_b_flag  gamma_e_flag   \n",
       "0      False             0             0             0             0  \\\n",
       "1      False             1             0             0             0   \n",
       "2      False             1             0             0             0   \n",
       "3      False             1             0             0             0   \n",
       "4       True             1             0             0             0   \n",
       "\n",
       "   gamma_h_flag  gamma_m_flag  gamma_n_flag  unknown_flag  beta_c_flag   \n",
       "0             1             0             0             0            1  \\\n",
       "1             0             1             0             0            1   \n",
       "2             0             1             0             0            1   \n",
       "3             0             0             0             0            1   \n",
       "4             0             0             0             0            0   \n",
       "\n",
       "   delta_b_flag  year_2020_flag  \n",
       "0             0               0  \n",
       "1             1               0  \n",
       "2             1               0  \n",
       "3             1               0  \n",
       "4             1               1  "
      ]
     },
     "execution_count": 1252,
     "metadata": {},
     "output_type": "execute_result"
    }
   ],
   "source": [
    "merge_df.head()"
   ]
  },
  {
   "cell_type": "code",
   "execution_count": 1032,
   "metadata": {},
   "outputs": [],
   "source": [
    "# # Find best threshold\n",
    "# from sklearn.metrics import f1_score\n",
    "# # Find best threshold to convert probs into 1s and 0s\n",
    "# scores = []; thresholds = []\n",
    "# best_score = 0; best_threshold = 0\n",
    "\n",
    "# for threshold in np.arange(0.2, 0.81, 0.01): # np.arange(start, end(but not include), step) \n",
    "#     # but why use range at 0.4 - 0.8? --> i assume that proper range to identify that good or bad threshold\n",
    "#     print(f'{threshold:.02f}, ', end='')\n",
    "#     preds = (oof_alpha_a['class_1'].values.reshape((-1))>threshold).astype('int') #get all pred values and check if > threshold then true and covert true to int vice versa with false\n",
    "#     m = f1_score(actual['alpha_a'].values.reshape((-1)).astype('int'), preds, average='macro') # make sure that actual & predict same type if not will cause error \n",
    "#     scores.append(m) # collect data because this use for plot\n",
    "#     thresholds.append(threshold) # collect data because this use for plot\n",
    "#     # this part below just collect best score & threshold\n",
    "#     if m>best_score:\n",
    "#         best_score = m \n",
    "#         best_threshold = threshold"
   ]
  },
  {
   "cell_type": "code",
   "execution_count": 1296,
   "metadata": {},
   "outputs": [],
   "source": [
    "def plot_score(all_threshold, all_scores, best_threshold, best_score):\n",
    "    import matplotlib.pylab as plt\n",
    "    # Plot Threshold vs F1 score\n",
    "    plt.figure(figsize=(20,5))\n",
    "    plt.plot(all_threshold, all_scores, '-o', color='blue') # plot all threshold & scores\n",
    "    plt.scatter([best_threshold], [best_score], color='blue', s=300, alpha=1) # make best point are more bigger\n",
    "    plt.xlabel('Threshold', size = 14)\n",
    "    plt.ylabel('Validation F1 score', size = 14)\n",
    "    plt.title(f'Threshold vs. F1_score with best F1_score = {best_score:.3f} at Best Threshold = {best_threshold:.3f}', size = 18)\n",
    "    plt.show()      "
   ]
  },
  {
   "cell_type": "code",
   "execution_count": 1299,
   "metadata": {},
   "outputs": [
    {
     "name": "stdout",
     "output_type": "stream",
     "text": [
      "0.20, 0.21, 0.22, 0.23, 0.24, 0.25, 0.26, 0.27, 0.28, 0.29, 0.30, 0.31, 0.32, 0.33, 0.34, 0.35, 0.36, 0.37, 0.38, 0.39, 0.40, 0.41, 0.42, 0.43, 0.44, 0.45, 0.46, 0.47, 0.48, 0.49, 0.50, 0.51, 0.52, 0.53, 0.54, 0.55, 0.56, 0.57, 0.58, 0.59, 0.60, 0.61, 0.62, 0.63, 0.64, 0.65, 0.66, 0.67, 0.68, 0.69, 0.70, 0.71, 0.72, 0.73, 0.74, 0.75, 0.76, 0.77, 0.78, 0.79, 0.80, 0.81, 0.20, 0.21, 0.22, 0.23, 0.24, 0.25, 0.26, 0.27, 0.28, 0.29, 0.30, 0.31, 0.32, 0.33, 0.34, 0.35, 0.36, 0.37, 0.38, 0.39, 0.40, 0.41, 0.42, 0.43, 0.44, 0.45, 0.46, 0.47, 0.48, 0.49, 0.50, 0.51, 0.52, 0.53, 0.54, 0.55, 0.56, 0.57, 0.58, 0.59, 0.60, 0.61, 0.62, 0.63, 0.64, 0.65, 0.66, 0.67, 0.68, 0.69, 0.70, 0.71, 0.72, 0.73, 0.74, 0.75, 0.76, 0.77, 0.78, 0.79, 0.80, 0.81, 0.20, 0.21, 0.22, 0.23, 0.24, 0.25, 0.26, 0.27, 0.28, 0.29, 0.30, 0.31, 0.32, 0.33, 0.34, 0.35, 0.36, 0.37, 0.38, 0.39, 0.40, 0.41, 0.42, 0.43, 0.44, 0.45, 0.46, 0.47, 0.48, 0.49, 0.50, 0.51, 0.52, 0.53, 0.54, 0.55, 0.56, 0.57, 0.58, 0.59, 0.60, 0.61, 0.62, 0.63, 0.64, 0.65, 0.66, 0.67, 0.68, 0.69, 0.70, 0.71, 0.72, 0.73, 0.74, 0.75, 0.76, 0.77, 0.78, 0.79, 0.80, 0.81, 0.20, 0.21, 0.22, 0.23, 0.24, 0.25, 0.26, 0.27, 0.28, 0.29, 0.30, 0.31, 0.32, 0.33, 0.34, 0.35, 0.36, 0.37, 0.38, 0.39, 0.40, 0.41, 0.42, 0.43, 0.44, 0.45, 0.46, 0.47, 0.48, 0.49, 0.50, 0.51, 0.52, 0.53, 0.54, 0.55, 0.56, 0.57, 0.58, 0.59, 0.60, 0.61, 0.62, 0.63, 0.64, 0.65, 0.66, 0.67, 0.68, 0.69, 0.70, 0.71, 0.72, 0.73, 0.74, 0.75, 0.76, 0.77, 0.78, 0.79, 0.80, 0.81, 0.20, 0.21, 0.22, 0.23, 0.24, 0.25, 0.26, 0.27, 0.28, 0.29, 0.30, 0.31, 0.32, 0.33, 0.34, 0.35, 0.36, 0.37, 0.38, 0.39, 0.40, 0.41, 0.42, 0.43, 0.44, 0.45, 0.46, 0.47, 0.48, 0.49, 0.50, 0.51, 0.52, 0.53, 0.54, 0.55, 0.56, 0.57, 0.58, 0.59, 0.60, 0.61, 0.62, 0.63, 0.64, 0.65, 0.66, 0.67, 0.68, 0.69, 0.70, 0.71, 0.72, 0.73, 0.74, 0.75, 0.76, 0.77, 0.78, 0.79, 0.80, 0.81, 0.20, 0.21, 0.22, 0.23, 0.24, 0.25, 0.26, 0.27, 0.28, 0.29, 0.30, 0.31, 0.32, 0.33, 0.34, 0.35, 0.36, 0.37, 0.38, 0.39, 0.40, 0.41, 0.42, 0.43, 0.44, 0.45, 0.46, 0.47, 0.48, 0.49, 0.50, 0.51, 0.52, 0.53, 0.54, 0.55, 0.56, 0.57, 0.58, 0.59, 0.60, 0.61, 0.62, 0.63, 0.64, 0.65, 0.66, 0.67, 0.68, 0.69, 0.70, 0.71, 0.72, 0.73, 0.74, 0.75, 0.76, 0.77, 0.78, 0.79, 0.80, 0.81, 0.20, 0.21, 0.22, 0.23, 0.24, 0.25, 0.26, 0.27, 0.28, 0.29, 0.30, 0.31, 0.32, 0.33, 0.34, 0.35, 0.36, 0.37, 0.38, 0.39, 0.40, 0.41, 0.42, 0.43, 0.44, 0.45, 0.46, 0.47, 0.48, 0.49, 0.50, 0.51, 0.52, 0.53, 0.54, 0.55, 0.56, 0.57, 0.58, 0.59, 0.60, 0.61, 0.62, 0.63, 0.64, 0.65, 0.66, 0.67, 0.68, 0.69, 0.70, 0.71, 0.72, 0.73, 0.74, 0.75, 0.76, 0.77, 0.78, 0.79, 0.80, 0.81, 0.20, 0.21, 0.22, 0.23, 0.24, 0.25, 0.26, 0.27, 0.28, 0.29, 0.30, 0.31, 0.32, 0.33, 0.34, 0.35, 0.36, 0.37, 0.38, 0.39, 0.40, 0.41, 0.42, 0.43, 0.44, 0.45, 0.46, 0.47, 0.48, 0.49, 0.50, 0.51, 0.52, 0.53, 0.54, 0.55, 0.56, 0.57, 0.58, 0.59, 0.60, 0.61, 0.62, 0.63, 0.64, 0.65, 0.66, 0.67, 0.68, 0.69, 0.70, 0.71, 0.72, 0.73, 0.74, 0.75, 0.76, 0.77, 0.78, 0.79, 0.80, 0.81, 0.20, 0.21, 0.22, 0.23, 0.24, 0.25, 0.26, 0.27, 0.28, 0.29, 0.30, 0.31, 0.32, 0.33, 0.34, 0.35, 0.36, 0.37, 0.38, 0.39, 0.40, 0.41, 0.42, 0.43, 0.44, 0.45, 0.46, 0.47, 0.48, 0.49, 0.50, 0.51, 0.52, 0.53, 0.54, 0.55, 0.56, 0.57, 0.58, 0.59, 0.60, 0.61, 0.62, 0.63, 0.64, 0.65, 0.66, 0.67, 0.68, 0.69, 0.70, 0.71, 0.72, 0.73, 0.74, 0.75, 0.76, 0.77, 0.78, 0.79, 0.80, 0.81, 0.20, 0.21, 0.22, 0.23, 0.24, 0.25, 0.26, 0.27, 0.28, 0.29, 0.30, 0.31, 0.32, 0.33, 0.34, 0.35, 0.36, 0.37, 0.38, 0.39, 0.40, 0.41, 0.42, 0.43, 0.44, 0.45, 0.46, 0.47, 0.48, 0.49, 0.50, 0.51, 0.52, 0.53, 0.54, 0.55, 0.56, 0.57, 0.58, 0.59, 0.60, 0.61, 0.62, 0.63, 0.64, 0.65, 0.66, 0.67, 0.68, 0.69, 0.70, 0.71, 0.72, 0.73, 0.74, 0.75, 0.76, 0.77, 0.78, 0.79, 0.80, 0.81, 0.20, 0.21, 0.22, 0.23, 0.24, 0.25, 0.26, 0.27, 0.28, 0.29, 0.30, 0.31, 0.32, 0.33, 0.34, 0.35, 0.36, 0.37, 0.38, 0.39, 0.40, 0.41, 0.42, 0.43, 0.44, 0.45, 0.46, 0.47, 0.48, 0.49, 0.50, 0.51, 0.52, 0.53, 0.54, 0.55, 0.56, 0.57, 0.58, 0.59, 0.60, 0.61, 0.62, 0.63, 0.64, 0.65, 0.66, 0.67, 0.68, 0.69, 0.70, 0.71, 0.72, 0.73, 0.74, 0.75, 0.76, 0.77, 0.78, 0.79, 0.80, 0.81, "
     ]
    }
   ],
   "source": [
    "# Selected threshold\n",
    "# alpha_a 0.9\n",
    "alpha_a_threshold, alpha_a_scores, alpha_a_all_thr, alpha_a_best_score = threshold_selected(oof_alpha_a['class_1'], actual_alpha_a['alpha_a'])\n",
    "# gamma_a 0.711\n",
    "gamma_a_threshold, gamma_a_scores, gamma_a_all_thr, gamma_a_best_score = threshold_selected(oof_gamma_a['class_1'], actual_gamma_a['gamma_a'])\n",
    "# gamma_b 0.660\n",
    "gamma_b_threshold, gamma_b_scores, gamma_b_all_thr, gamma_b_best_score = threshold_selected(oof_gamma_b['class_1'], actual_gamma_b['gamma_b'])\n",
    "# gamma_e 0.497\n",
    "gamma_e_threshold, gamma_e_scores, gamma_e_all_thr, gamma_e_best_score = threshold_selected(oof_gamma_e['class_1'], actual_gamma_e['gamma_e'])\n",
    "# gamma_h 0.819\n",
    "gamma_h_threshold, gamma_h_scores, gamma_h_all_thr, gamma_h_best_score = threshold_selected(oof_gamma_h['class_1'], actual_gamma_h['gamma_h'])\n",
    "# unknown 0.672\n",
    "unknown_threshold, unknown_scores, unknown_all_thr, unknown_best_score = threshold_selected(oof_unknown['class_1'], actual_unknown['is_unknown'])\n",
    "# gamma_m 0.866\n",
    "gamma_m_threshold, gamma_m_scores, gamma_m_all_thr, gamma_m_best_score = threshold_selected(oof_gamma_m['class_1'], actual_gamma_m['gamma_m'])\n",
    "# gamma_n 0.807\n",
    "gamma_n_threshold, gamma_n_scores, gamma_n_all_thr, gamma_n_best_score = threshold_selected(oof_gamma_n['class_1'], actual_gamma_n['gamma_n'])\n",
    "# beta_c 0.89\n",
    "beta_c_threshold, beta_c_scores, beta_c_all_thr, beta_c_best_score = threshold_selected(oof_beta_c['class_1'], actual_beta_c['beta_c'])\n",
    "# delta_b 0.822\n",
    "delta_b_threshold, delta_b_scores, delta_b_all_thr, delta_b_best_score = threshold_selected(oof_delta_b['class_1'], actual_delta_b['delta_b'])\n",
    "# year_2020 0.862\n",
    "year_2020_threshold, year_2020_scores, year_2020_all_thr, year_2020_best_score = threshold_selected(oof_year_2020['class_1'], actual_year_2020['year_2020'])"
   ]
  },
  {
   "cell_type": "code",
   "execution_count": 1312,
   "metadata": {},
   "outputs": [
    {
     "data": {
      "image/png": "[encoded data removed]",
      "text/plain": [
       "<Figure size 1440x360 with 1 Axes>"
      ]
     },
     "metadata": {
      "needs_background": "light"
     },
     "output_type": "display_data"
    }
   ],
   "source": [
    "plot_score(gamma_h_all_thr, gamma_h_scores, gamma_h_threshold, gamma_h_best_score)"
   ]
  },
  {
   "cell_type": "code",
   "execution_count": 1034,
   "metadata": {},
   "outputs": [],
   "source": [
    "# best_threshold"
   ]
  },
  {
   "cell_type": "code",
   "execution_count": 1334,
   "metadata": {},
   "outputs": [],
   "source": [
    "\n",
    "# exclude_cols = ['id','ej', 'alpha', 'beta', 'gamma', 'delta', 'epsilon', 'class'\n",
    "#                 , 'alpha_a', 'alpha_b', 'alpha_d','alpha_g', 'gamma_a', 'gamma_b', 'gamma_e', 'gamma_h', 'is_unknown']\n",
    "# FEATURES = [c for c in merge_df.columns if c not in exclude_cols]\n",
    "# df_tr = merge_df[FEATURES] \n",
    "# df_tr_label = merge_df[['class']]\n",
    "# merge_df.head()\n",
    "# FINAL_FEATURES = ['alpha_a_flag', 'gamma_a_flag', 'gamma_b_flag', 'gamma_e_flag', 'gamma_h_flag', 'gamma_flag']\n",
    "# FINAL_FEATURES = ['alpha_a_flag', 'gamma_a_flag', 'gamma_b_flag', 'gamma_e_flag', 'gamma_h_flag']\n",
    "# FINAL_FEATURES = ['alpha_a_flag', 'gamma_a_flag', 'gamma_b_flag', 'gamma_e_flag', 'gamma_h_flag', 'unknown_flag']\n",
    "# FINAL_FEATURES = ['alpha_a_flag', 'gamma_a_flag', 'gamma_b_flag', 'gamma_e_flag', 'gamma_h_flag', 'unknown_flag', 'gamma_m_flag', 'gamma_n_flag'\n",
    "#                   , 'beta_c_flag', 'delta_b_flag', 'year_2020_flag']\n",
    "# FINAL_FEATURES = ['alpha_a_flag', 'gamma_a_flag', 'gamma_b_flag', 'gamma_e_flag', 'gamma_h_flag', 'gamma_m_flag', 'gamma_n_flag']\n",
    "# FINAL_FEATURES = ['alpha_a_flag', 'gamma_flag']\n",
    "# FINAL_FEATURES = ['alpha_a_flag', 'unknown_flag', 'gamma_m_flag', 'gamma_n_flag']\n",
    "# FINAL_FEATURES = ['alpha_a_flag', 'gamma_m_flag', 'gamma_n_flag']\n",
    "FINAL_FEATURES = ['alpha_a_flag', 'gamma_a_flag', 'gamma_b_flag', 'gamma_e_flag', 'gamma_h_flag', 'gamma_m_flag', 'gamma_n_flag']"
   ]
  },
  {
   "cell_type": "code",
   "execution_count": 1335,
   "metadata": {},
   "outputs": [],
   "source": [
    "ALL_IDS = merge_df.id.unique()\n",
    "oof = pd.DataFrame(data=np.zeros((len(ALL_IDS), 2)), index=ALL_IDS, columns=['class_0', 'class_1'])"
   ]
  },
  {
   "cell_type": "code",
   "execution_count": 1336,
   "metadata": {},
   "outputs": [
    {
     "data": {
      "text/plain": [
       "(617, 89)"
      ]
     },
     "execution_count": 1336,
     "metadata": {},
     "output_type": "execute_result"
    }
   ],
   "source": [
    "merge_df.shape"
   ]
  },
  {
   "cell_type": "code",
   "execution_count": 1337,
   "metadata": {},
   "outputs": [
    {
     "name": "stdout",
     "output_type": "stream",
     "text": [
      "-------------------------\n",
      "--- Fold 1\n",
      "-------------------------\n",
      "[LightGBM] [Warning] Unknown parameter: learning\n"
     ]
    },
    {
     "name": "stderr",
     "output_type": "stream",
     "text": [
      "/usr/local/lib/python3.9/site-packages/lightgbm/engine.py:177: UserWarning: Found `num_iterations` in params. Will use it instead of argument\n",
      "  _log_warning(f\"Found `{alias}` in params. Will use it instead of argument\")\n"
     ]
    },
    {
     "name": "stdout",
     "output_type": "stream",
     "text": [
      "-------------------------\n",
      "--- Fold 2\n",
      "-------------------------\n",
      "[LightGBM] [Warning] Unknown parameter: learning\n"
     ]
    },
    {
     "name": "stderr",
     "output_type": "stream",
     "text": [
      "/usr/local/lib/python3.9/site-packages/lightgbm/engine.py:177: UserWarning: Found `num_iterations` in params. Will use it instead of argument\n",
      "  _log_warning(f\"Found `{alias}` in params. Will use it instead of argument\")\n"
     ]
    },
    {
     "name": "stdout",
     "output_type": "stream",
     "text": [
      "-------------------------\n",
      "--- Fold 3\n",
      "-------------------------\n",
      "[LightGBM] [Warning] Unknown parameter: learning\n"
     ]
    },
    {
     "name": "stderr",
     "output_type": "stream",
     "text": [
      "/usr/local/lib/python3.9/site-packages/lightgbm/engine.py:177: UserWarning: Found `num_iterations` in params. Will use it instead of argument\n",
      "  _log_warning(f\"Found `{alias}` in params. Will use it instead of argument\")\n"
     ]
    },
    {
     "name": "stdout",
     "output_type": "stream",
     "text": [
      "-------------------------\n",
      "--- Fold 4\n",
      "-------------------------\n",
      "[LightGBM] [Warning] Unknown parameter: learning\n",
      "-------------------------\n",
      "--- Fold 5\n",
      "-------------------------\n",
      "[LightGBM] [Warning] Unknown parameter: learning\n"
     ]
    },
    {
     "name": "stderr",
     "output_type": "stream",
     "text": [
      "/usr/local/lib/python3.9/site-packages/lightgbm/engine.py:177: UserWarning: Found `num_iterations` in params. Will use it instead of argument\n",
      "  _log_warning(f\"Found `{alias}` in params. Will use it instead of argument\")\n",
      "/usr/local/lib/python3.9/site-packages/lightgbm/engine.py:177: UserWarning: Found `num_iterations` in params. Will use it instead of argument\n",
      "  _log_warning(f\"Found `{alias}` in params. Will use it instead of argument\")\n"
     ]
    }
   ],
   "source": [
    "oof = predict_feature(model, 'class', merge_df, oof, FINAL_FEATURES)\n"
   ]
  },
  {
   "cell_type": "code",
   "execution_count": 1338,
   "metadata": {},
   "outputs": [
    {
     "data": {
      "text/html": [
       "<div>\n",
       "<style scoped>\n",
       "    .dataframe tbody tr th:only-of-type {\n",
       "        vertical-align: middle;\n",
       "    }\n",
       "\n",
       "    .dataframe tbody tr th {\n",
       "        vertical-align: top;\n",
       "    }\n",
       "\n",
       "    .dataframe thead th {\n",
       "        text-align: right;\n",
       "    }\n",
       "</style>\n",
       "<table border=\"1\" class=\"dataframe\">\n",
       "  <thead>\n",
       "    <tr style=\"text-align: right;\">\n",
       "      <th></th>\n",
       "      <th>class_0</th>\n",
       "      <th>class_1</th>\n",
       "    </tr>\n",
       "  </thead>\n",
       "  <tbody>\n",
       "    <tr>\n",
       "      <th>000ff2bfdfe9</th>\n",
       "      <td>0.093244</td>\n",
       "      <td>0.906756</td>\n",
       "    </tr>\n",
       "    <tr>\n",
       "      <th>007255e47698</th>\n",
       "      <td>0.976661</td>\n",
       "      <td>0.023339</td>\n",
       "    </tr>\n",
       "    <tr>\n",
       "      <th>013f2bd269f5</th>\n",
       "      <td>0.983017</td>\n",
       "      <td>0.016983</td>\n",
       "    </tr>\n",
       "    <tr>\n",
       "      <th>043ac50845d5</th>\n",
       "      <td>0.650899</td>\n",
       "      <td>0.349101</td>\n",
       "    </tr>\n",
       "    <tr>\n",
       "      <th>044fb8a146ec</th>\n",
       "      <td>0.760170</td>\n",
       "      <td>0.239830</td>\n",
       "    </tr>\n",
       "  </tbody>\n",
       "</table>\n",
       "</div>"
      ],
      "text/plain": [
       "               class_0   class_1\n",
       "000ff2bfdfe9  0.093244  0.906756\n",
       "007255e47698  0.976661  0.023339\n",
       "013f2bd269f5  0.983017  0.016983\n",
       "043ac50845d5  0.650899  0.349101\n",
       "044fb8a146ec  0.760170  0.239830"
      ]
     },
     "execution_count": 1338,
     "metadata": {},
     "output_type": "execute_result"
    }
   ],
   "source": [
    "oof.head()"
   ]
  },
  {
   "cell_type": "code",
   "execution_count": 1339,
   "metadata": {},
   "outputs": [],
   "source": [
    "from sklearn.metrics import log_loss\n",
    "def balanced_log_loss(y_true, y_pred):\n",
    "    nc = np.bincount(y_true)\n",
    "    return log_loss(y_true, y_pred, sample_weight=1/nc[y_true], eps=1e-15)"
   ]
  },
  {
   "cell_type": "code",
   "execution_count": 1340,
   "metadata": {},
   "outputs": [
    {
     "data": {
      "text/plain": [
       "0.34339783347935104"
      ]
     },
     "execution_count": 1340,
     "metadata": {},
     "output_type": "execute_result"
    }
   ],
   "source": [
    "y_true = merge_df['class']\n",
    "y_pred = oof['class_1']\n",
    "balanced_log_loss(y_true, y_pred)\n",
    "# Best score is 0.434939521321878\n",
    "# 0.423546473626771 with unknown_threshold\n",
    "# 0.34339783347935104 with gamma m & n\n",
    "# now is 6.823326702712194e-06?"
   ]
  },
  {
   "cell_type": "code",
   "execution_count": 1115,
   "metadata": {},
   "outputs": [
    {
     "data": {
      "text/plain": [
       "0.6931471805599453"
      ]
     },
     "execution_count": 1115,
     "metadata": {},
     "output_type": "execute_result"
    }
   ],
   "source": [
    "y_true = merge_df['class']\n",
    "y_pred = [0.5]*len(y_true)\n",
    "balanced_log_loss(y_true, y_pred)"
   ]
  },
  {
   "cell_type": "code",
   "execution_count": 1068,
   "metadata": {},
   "outputs": [
    {
     "data": {
      "text/plain": [
       "numpy.ndarray"
      ]
     },
     "execution_count": 1068,
     "metadata": {},
     "output_type": "execute_result"
    }
   ],
   "source": [
    "type(np.array([0]*617))"
   ]
  },
  {
   "cell_type": "code",
   "execution_count": 1082,
   "metadata": {},
   "outputs": [
    {
     "data": {
      "text/plain": [
       "-34.538776394910684"
      ]
     },
     "execution_count": 1082,
     "metadata": {},
     "output_type": "execute_result"
    }
   ],
   "source": [
    "np.log(1e-15)"
   ]
  },
  {
   "cell_type": "code",
   "execution_count": 1084,
   "metadata": {},
   "outputs": [
    {
     "data": {
      "text/plain": [
       "1e-15"
      ]
     },
     "execution_count": 1084,
     "metadata": {},
     "output_type": "execute_result"
    }
   ],
   "source": []
  },
  {
   "cell_type": "code",
   "execution_count": null,
   "metadata": {},
   "outputs": [],
   "source": []
  }
 ],
 "metadata": {
  "kernelspec": {
   "display_name": "Python 3",
   "language": "python",
   "name": "python3"
  },
  "language_info": {
   "codemirror_mode": {
    "name": "ipython",
    "version": 3
   },
   "file_extension": ".py",
   "mimetype": "text/x-python",
   "name": "python",
   "nbconvert_exporter": "python",
   "pygments_lexer": "ipython3",
   "version": "3.9.9"
  },
  "orig_nbformat": 4
 },
 "nbformat": 4,
 "nbformat_minor": 2
}
